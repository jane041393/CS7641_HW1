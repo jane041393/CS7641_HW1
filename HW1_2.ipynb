{
 "cells": [
  {
   "cell_type": "code",
   "execution_count": 73,
   "metadata": {},
   "outputs": [],
   "source": [
    "import datetime\n",
    "import pandas as pd\n",
    "import numpy as np\n",
    "import operator\n",
    "import matplotlib.pyplot as plt"
   ]
  },
  {
   "cell_type": "markdown",
   "metadata": {},
   "source": [
    "## download the data here: https://2015.recsyschallenge.com/challenge.html"
   ]
  },
  {
   "cell_type": "code",
   "execution_count": 74,
   "metadata": {},
   "outputs": [],
   "source": [
    "%matplotlib inline"
   ]
  },
  {
   "cell_type": "code",
   "execution_count": null,
   "metadata": {},
   "outputs": [],
   "source": [
    "buys_column_names = ['Session_ID','Time_stamp','Item_ID','Price','Quantity']\n",
    "df_buys = pd.read_csv('yoochoose-buys.dat', names=buys_column_names, parse_dates=['Time_stamp'], date_parser=dateparse)\n",
    "df_buys_ALL = df_buys[df_buys['Time_stamp'].between('2014-09-01','2014-09-30')]\n",
    "df_buys_ALL.to_pickle(\"./df_buys_ALL.pkl\")"
   ]
  },
  {
   "cell_type": "code",
   "execution_count": null,
   "metadata": {},
   "outputs": [],
   "source": [
    "clicks_column_names = ['Session_ID','Time_stamp','Item_ID','Category']\n",
    "click_dtype = {'Session_ID':int, 'Time_stamp':int, 'Item_ID':int, 'Category':int}\n",
    "df_clicks = pd.read_csv('yoochoose-clicks.dat', names = clicks_column_names, parse_dates=['Time_stamp'], date_parser=dateparse, dtype=click_dtype)\n",
    "df_clicks_ALL = df_clicks[df_clicks['Time_stamp'].between('2014-09-01','2014-09-30')]\n",
    "df_clicks_ALL.to_pickle(\"./df_clicks_ALL.pkl\")"
   ]
  },
  {
   "cell_type": "code",
   "execution_count": 75,
   "metadata": {},
   "outputs": [],
   "source": [
    "df_buys_ALL = pd.read_pickle(\"./df_buys_ALL.pkl\")\n",
    "df_clicks_ALL = pd.read_pickle(\"./df_clicks_ALL.pkl\")"
   ]
  },
  {
   "cell_type": "code",
   "execution_count": 76,
   "metadata": {},
   "outputs": [],
   "source": [
    "df_buys_ALL = df_buys_ALL[df_buys_ALL['Time_stamp'].between('2014-09-01','2014-09-30')]\n",
    "df_clicks_ALL = df_clicks_ALL[df_clicks_ALL['Time_stamp'].between('2014-09-01','2014-09-30')]"
   ]
  },
  {
   "cell_type": "code",
   "execution_count": 77,
   "metadata": {},
   "outputs": [
    {
     "data": {
      "text/html": [
       "<div>\n",
       "<style scoped>\n",
       "    .dataframe tbody tr th:only-of-type {\n",
       "        vertical-align: middle;\n",
       "    }\n",
       "\n",
       "    .dataframe tbody tr th {\n",
       "        vertical-align: top;\n",
       "    }\n",
       "\n",
       "    .dataframe thead th {\n",
       "        text-align: right;\n",
       "    }\n",
       "</style>\n",
       "<table border=\"1\" class=\"dataframe\">\n",
       "  <thead>\n",
       "    <tr style=\"text-align: right;\">\n",
       "      <th></th>\n",
       "      <th>Session_ID</th>\n",
       "      <th>Time_stamp</th>\n",
       "      <th>Item_ID</th>\n",
       "      <th>Price</th>\n",
       "      <th>Quantity</th>\n",
       "    </tr>\n",
       "  </thead>\n",
       "  <tbody>\n",
       "    <tr>\n",
       "      <th>902697</th>\n",
       "      <td>9515487</td>\n",
       "      <td>2014-09-02 00:15:06.202</td>\n",
       "      <td>214850949</td>\n",
       "      <td>1360</td>\n",
       "      <td>1</td>\n",
       "    </tr>\n",
       "    <tr>\n",
       "      <th>902698</th>\n",
       "      <td>9515487</td>\n",
       "      <td>2014-09-02 00:15:06.203</td>\n",
       "      <td>214850949</td>\n",
       "      <td>1360</td>\n",
       "      <td>2</td>\n",
       "    </tr>\n",
       "    <tr>\n",
       "      <th>902699</th>\n",
       "      <td>9515487</td>\n",
       "      <td>2014-09-02 00:15:06.212</td>\n",
       "      <td>214845971</td>\n",
       "      <td>994</td>\n",
       "      <td>1</td>\n",
       "    </tr>\n",
       "    <tr>\n",
       "      <th>902700</th>\n",
       "      <td>9515487</td>\n",
       "      <td>2014-09-02 00:15:07.221</td>\n",
       "      <td>214850949</td>\n",
       "      <td>1360</td>\n",
       "      <td>1</td>\n",
       "    </tr>\n",
       "    <tr>\n",
       "      <th>902701</th>\n",
       "      <td>9515487</td>\n",
       "      <td>2014-09-02 00:15:07.370</td>\n",
       "      <td>214850949</td>\n",
       "      <td>1360</td>\n",
       "      <td>2</td>\n",
       "    </tr>\n",
       "    <tr>\n",
       "      <th>902702</th>\n",
       "      <td>9515487</td>\n",
       "      <td>2014-09-02 00:15:07.388</td>\n",
       "      <td>214845971</td>\n",
       "      <td>994</td>\n",
       "      <td>1</td>\n",
       "    </tr>\n",
       "    <tr>\n",
       "      <th>904615</th>\n",
       "      <td>9435637</td>\n",
       "      <td>2014-09-02 01:24:49.189</td>\n",
       "      <td>214849762</td>\n",
       "      <td>554</td>\n",
       "      <td>1</td>\n",
       "    </tr>\n",
       "    <tr>\n",
       "      <th>904616</th>\n",
       "      <td>9435637</td>\n",
       "      <td>2014-09-02 01:24:49.243</td>\n",
       "      <td>214853698</td>\n",
       "      <td>837</td>\n",
       "      <td>1</td>\n",
       "    </tr>\n",
       "    <tr>\n",
       "      <th>904617</th>\n",
       "      <td>9435637</td>\n",
       "      <td>2014-09-02 01:24:49.311</td>\n",
       "      <td>214853730</td>\n",
       "      <td>1570</td>\n",
       "      <td>1</td>\n",
       "    </tr>\n",
       "    <tr>\n",
       "      <th>904618</th>\n",
       "      <td>9435637</td>\n",
       "      <td>2014-09-02 01:24:49.351</td>\n",
       "      <td>214853707</td>\n",
       "      <td>2093</td>\n",
       "      <td>1</td>\n",
       "    </tr>\n",
       "    <tr>\n",
       "      <th>904619</th>\n",
       "      <td>9435637</td>\n",
       "      <td>2014-09-02 01:24:49.395</td>\n",
       "      <td>214705734</td>\n",
       "      <td>1046</td>\n",
       "      <td>1</td>\n",
       "    </tr>\n",
       "    <tr>\n",
       "      <th>904620</th>\n",
       "      <td>9435637</td>\n",
       "      <td>2014-09-02 01:24:49.419</td>\n",
       "      <td>214853702</td>\n",
       "      <td>523</td>\n",
       "      <td>1</td>\n",
       "    </tr>\n",
       "    <tr>\n",
       "      <th>904621</th>\n",
       "      <td>9435637</td>\n",
       "      <td>2014-09-02 01:24:49.430</td>\n",
       "      <td>214853700</td>\n",
       "      <td>837</td>\n",
       "      <td>1</td>\n",
       "    </tr>\n",
       "    <tr>\n",
       "      <th>904622</th>\n",
       "      <td>9435637</td>\n",
       "      <td>2014-09-02 01:24:49.436</td>\n",
       "      <td>214854118</td>\n",
       "      <td>1360</td>\n",
       "      <td>1</td>\n",
       "    </tr>\n",
       "    <tr>\n",
       "      <th>904623</th>\n",
       "      <td>9435637</td>\n",
       "      <td>2014-09-02 01:24:49.447</td>\n",
       "      <td>214853330</td>\n",
       "      <td>627</td>\n",
       "      <td>1</td>\n",
       "    </tr>\n",
       "    <tr>\n",
       "      <th>906813</th>\n",
       "      <td>9572387</td>\n",
       "      <td>2014-09-02 00:42:10.895</td>\n",
       "      <td>214677422</td>\n",
       "      <td>18745</td>\n",
       "      <td>1</td>\n",
       "    </tr>\n",
       "    <tr>\n",
       "      <th>908474</th>\n",
       "      <td>9716149</td>\n",
       "      <td>2014-09-02 02:58:11.183</td>\n",
       "      <td>214832546</td>\n",
       "      <td>152</td>\n",
       "      <td>1</td>\n",
       "    </tr>\n",
       "    <tr>\n",
       "      <th>908475</th>\n",
       "      <td>9716149</td>\n",
       "      <td>2014-09-02 02:58:11.246</td>\n",
       "      <td>214832323</td>\n",
       "      <td>183</td>\n",
       "      <td>1</td>\n",
       "    </tr>\n",
       "    <tr>\n",
       "      <th>908476</th>\n",
       "      <td>9716149</td>\n",
       "      <td>2014-09-02 02:58:11.398</td>\n",
       "      <td>214832347</td>\n",
       "      <td>62</td>\n",
       "      <td>2</td>\n",
       "    </tr>\n",
       "    <tr>\n",
       "      <th>908477</th>\n",
       "      <td>9716149</td>\n",
       "      <td>2014-09-02 02:58:11.418</td>\n",
       "      <td>214832492</td>\n",
       "      <td>99</td>\n",
       "      <td>5</td>\n",
       "    </tr>\n",
       "    <tr>\n",
       "      <th>908478</th>\n",
       "      <td>9716149</td>\n",
       "      <td>2014-09-02 02:58:11.430</td>\n",
       "      <td>214832334</td>\n",
       "      <td>62</td>\n",
       "      <td>3</td>\n",
       "    </tr>\n",
       "    <tr>\n",
       "      <th>908479</th>\n",
       "      <td>9716149</td>\n",
       "      <td>2014-09-02 02:58:11.434</td>\n",
       "      <td>214832315</td>\n",
       "      <td>261</td>\n",
       "      <td>1</td>\n",
       "    </tr>\n",
       "    <tr>\n",
       "      <th>908480</th>\n",
       "      <td>9716149</td>\n",
       "      <td>2014-09-02 02:58:11.472</td>\n",
       "      <td>214832398</td>\n",
       "      <td>26</td>\n",
       "      <td>4</td>\n",
       "    </tr>\n",
       "    <tr>\n",
       "      <th>908942</th>\n",
       "      <td>9578893</td>\n",
       "      <td>2014-09-02 00:48:04.858</td>\n",
       "      <td>214845506</td>\n",
       "      <td>6282</td>\n",
       "      <td>2</td>\n",
       "    </tr>\n",
       "    <tr>\n",
       "      <th>918319</th>\n",
       "      <td>9412787</td>\n",
       "      <td>2014-09-02 02:53:16.467</td>\n",
       "      <td>214602356</td>\n",
       "      <td>9947</td>\n",
       "      <td>1</td>\n",
       "    </tr>\n",
       "    <tr>\n",
       "      <th>919042</th>\n",
       "      <td>9461892</td>\n",
       "      <td>2014-09-02 01:18:36.936</td>\n",
       "      <td>214838107</td>\n",
       "      <td>1465</td>\n",
       "      <td>2</td>\n",
       "    </tr>\n",
       "    <tr>\n",
       "      <th>919043</th>\n",
       "      <td>9461892</td>\n",
       "      <td>2014-09-02 01:18:36.988</td>\n",
       "      <td>214850310</td>\n",
       "      <td>784</td>\n",
       "      <td>2</td>\n",
       "    </tr>\n",
       "    <tr>\n",
       "      <th>922616</th>\n",
       "      <td>9416829</td>\n",
       "      <td>2014-09-02 02:16:50.452</td>\n",
       "      <td>214853402</td>\n",
       "      <td>2617</td>\n",
       "      <td>1</td>\n",
       "    </tr>\n",
       "    <tr>\n",
       "      <th>927816</th>\n",
       "      <td>9454388</td>\n",
       "      <td>2014-09-02 00:15:45.836</td>\n",
       "      <td>214840569</td>\n",
       "      <td>80006</td>\n",
       "      <td>1</td>\n",
       "    </tr>\n",
       "    <tr>\n",
       "      <th>929927</th>\n",
       "      <td>9704848</td>\n",
       "      <td>2014-09-02 02:23:21.211</td>\n",
       "      <td>214840412</td>\n",
       "      <td>3141</td>\n",
       "      <td>1</td>\n",
       "    </tr>\n",
       "    <tr>\n",
       "      <th>...</th>\n",
       "      <td>...</td>\n",
       "      <td>...</td>\n",
       "      <td>...</td>\n",
       "      <td>...</td>\n",
       "      <td>...</td>\n",
       "    </tr>\n",
       "    <tr>\n",
       "      <th>1006035</th>\n",
       "      <td>10152607</td>\n",
       "      <td>2014-09-02 07:40:55.367</td>\n",
       "      <td>214853722</td>\n",
       "      <td>418</td>\n",
       "      <td>1</td>\n",
       "    </tr>\n",
       "    <tr>\n",
       "      <th>1006745</th>\n",
       "      <td>10226506</td>\n",
       "      <td>2014-09-02 05:58:36.610</td>\n",
       "      <td>214836326</td>\n",
       "      <td>2722</td>\n",
       "      <td>1</td>\n",
       "    </tr>\n",
       "    <tr>\n",
       "      <th>1006746</th>\n",
       "      <td>10226506</td>\n",
       "      <td>2014-09-02 05:58:36.784</td>\n",
       "      <td>214827020</td>\n",
       "      <td>4397</td>\n",
       "      <td>1</td>\n",
       "    </tr>\n",
       "    <tr>\n",
       "      <th>1006766</th>\n",
       "      <td>9797738</td>\n",
       "      <td>2014-09-02 08:40:43.562</td>\n",
       "      <td>214711537</td>\n",
       "      <td>6282</td>\n",
       "      <td>1</td>\n",
       "    </tr>\n",
       "    <tr>\n",
       "      <th>1006767</th>\n",
       "      <td>9797738</td>\n",
       "      <td>2014-09-02 08:40:43.655</td>\n",
       "      <td>214853722</td>\n",
       "      <td>418</td>\n",
       "      <td>2</td>\n",
       "    </tr>\n",
       "    <tr>\n",
       "      <th>1006768</th>\n",
       "      <td>9797738</td>\n",
       "      <td>2014-09-02 08:40:43.866</td>\n",
       "      <td>214717867</td>\n",
       "      <td>1570</td>\n",
       "      <td>2</td>\n",
       "    </tr>\n",
       "    <tr>\n",
       "      <th>1006845</th>\n",
       "      <td>9876776</td>\n",
       "      <td>2014-09-02 09:07:11.973</td>\n",
       "      <td>214853220</td>\n",
       "      <td>2617</td>\n",
       "      <td>1</td>\n",
       "    </tr>\n",
       "    <tr>\n",
       "      <th>1007051</th>\n",
       "      <td>9876651</td>\n",
       "      <td>2014-09-02 13:03:27.189</td>\n",
       "      <td>214853992</td>\n",
       "      <td>627</td>\n",
       "      <td>2</td>\n",
       "    </tr>\n",
       "    <tr>\n",
       "      <th>1007052</th>\n",
       "      <td>9876651</td>\n",
       "      <td>2014-09-02 13:03:27.260</td>\n",
       "      <td>214854262</td>\n",
       "      <td>837</td>\n",
       "      <td>2</td>\n",
       "    </tr>\n",
       "    <tr>\n",
       "      <th>1007053</th>\n",
       "      <td>9876651</td>\n",
       "      <td>2014-09-02 13:03:27.338</td>\n",
       "      <td>214854510</td>\n",
       "      <td>941</td>\n",
       "      <td>2</td>\n",
       "    </tr>\n",
       "    <tr>\n",
       "      <th>1007054</th>\n",
       "      <td>9876651</td>\n",
       "      <td>2014-09-02 13:03:27.502</td>\n",
       "      <td>214853715</td>\n",
       "      <td>177</td>\n",
       "      <td>1</td>\n",
       "    </tr>\n",
       "    <tr>\n",
       "      <th>1007055</th>\n",
       "      <td>9876651</td>\n",
       "      <td>2014-09-02 13:03:27.530</td>\n",
       "      <td>214716671</td>\n",
       "      <td>449</td>\n",
       "      <td>1</td>\n",
       "    </tr>\n",
       "    <tr>\n",
       "      <th>1007116</th>\n",
       "      <td>10014716</td>\n",
       "      <td>2014-09-02 10:51:55.078</td>\n",
       "      <td>214853342</td>\n",
       "      <td>2093</td>\n",
       "      <td>4</td>\n",
       "    </tr>\n",
       "    <tr>\n",
       "      <th>1007117</th>\n",
       "      <td>10014716</td>\n",
       "      <td>2014-09-02 10:51:55.149</td>\n",
       "      <td>214853420</td>\n",
       "      <td>1046</td>\n",
       "      <td>2</td>\n",
       "    </tr>\n",
       "    <tr>\n",
       "      <th>1007118</th>\n",
       "      <td>10014716</td>\n",
       "      <td>2014-09-02 10:51:55.221</td>\n",
       "      <td>214853340</td>\n",
       "      <td>837</td>\n",
       "      <td>4</td>\n",
       "    </tr>\n",
       "    <tr>\n",
       "      <th>1008209</th>\n",
       "      <td>10047529</td>\n",
       "      <td>2014-09-02 20:21:21.112</td>\n",
       "      <td>214854148</td>\n",
       "      <td>418</td>\n",
       "      <td>2</td>\n",
       "    </tr>\n",
       "    <tr>\n",
       "      <th>1008210</th>\n",
       "      <td>10047529</td>\n",
       "      <td>2014-09-02 20:21:21.164</td>\n",
       "      <td>214850790</td>\n",
       "      <td>784</td>\n",
       "      <td>1</td>\n",
       "    </tr>\n",
       "    <tr>\n",
       "      <th>1008211</th>\n",
       "      <td>10047529</td>\n",
       "      <td>2014-09-02 20:21:21.200</td>\n",
       "      <td>214853865</td>\n",
       "      <td>418</td>\n",
       "      <td>1</td>\n",
       "    </tr>\n",
       "    <tr>\n",
       "      <th>1008212</th>\n",
       "      <td>10047529</td>\n",
       "      <td>2014-09-02 20:21:21.212</td>\n",
       "      <td>214853994</td>\n",
       "      <td>627</td>\n",
       "      <td>1</td>\n",
       "    </tr>\n",
       "    <tr>\n",
       "      <th>1008213</th>\n",
       "      <td>10047529</td>\n",
       "      <td>2014-09-02 20:21:21.227</td>\n",
       "      <td>214853992</td>\n",
       "      <td>627</td>\n",
       "      <td>1</td>\n",
       "    </tr>\n",
       "    <tr>\n",
       "      <th>1008214</th>\n",
       "      <td>10047529</td>\n",
       "      <td>2014-09-02 20:21:21.244</td>\n",
       "      <td>214853846</td>\n",
       "      <td>177</td>\n",
       "      <td>1</td>\n",
       "    </tr>\n",
       "    <tr>\n",
       "      <th>1008215</th>\n",
       "      <td>10047529</td>\n",
       "      <td>2014-09-02 20:21:21.259</td>\n",
       "      <td>214853715</td>\n",
       "      <td>177</td>\n",
       "      <td>1</td>\n",
       "    </tr>\n",
       "    <tr>\n",
       "      <th>1008216</th>\n",
       "      <td>10047529</td>\n",
       "      <td>2014-09-02 20:21:21.268</td>\n",
       "      <td>214854060</td>\n",
       "      <td>1046</td>\n",
       "      <td>1</td>\n",
       "    </tr>\n",
       "    <tr>\n",
       "      <th>1008217</th>\n",
       "      <td>10047529</td>\n",
       "      <td>2014-09-02 20:21:21.309</td>\n",
       "      <td>214853767</td>\n",
       "      <td>1046</td>\n",
       "      <td>1</td>\n",
       "    </tr>\n",
       "    <tr>\n",
       "      <th>1008218</th>\n",
       "      <td>10047529</td>\n",
       "      <td>2014-09-02 20:21:21.326</td>\n",
       "      <td>214853422</td>\n",
       "      <td>418</td>\n",
       "      <td>1</td>\n",
       "    </tr>\n",
       "    <tr>\n",
       "      <th>1008635</th>\n",
       "      <td>10047786</td>\n",
       "      <td>2014-09-02 15:26:55.701</td>\n",
       "      <td>214853992</td>\n",
       "      <td>627</td>\n",
       "      <td>1</td>\n",
       "    </tr>\n",
       "    <tr>\n",
       "      <th>1008636</th>\n",
       "      <td>10047786</td>\n",
       "      <td>2014-09-02 15:26:55.710</td>\n",
       "      <td>214853865</td>\n",
       "      <td>418</td>\n",
       "      <td>1</td>\n",
       "    </tr>\n",
       "    <tr>\n",
       "      <th>1008637</th>\n",
       "      <td>10047786</td>\n",
       "      <td>2014-09-02 15:26:55.721</td>\n",
       "      <td>214854165</td>\n",
       "      <td>418</td>\n",
       "      <td>1</td>\n",
       "    </tr>\n",
       "    <tr>\n",
       "      <th>1008638</th>\n",
       "      <td>10047786</td>\n",
       "      <td>2014-09-02 15:26:55.734</td>\n",
       "      <td>214850790</td>\n",
       "      <td>784</td>\n",
       "      <td>1</td>\n",
       "    </tr>\n",
       "    <tr>\n",
       "      <th>1008639</th>\n",
       "      <td>10047786</td>\n",
       "      <td>2014-09-02 15:26:55.747</td>\n",
       "      <td>214854172</td>\n",
       "      <td>1046</td>\n",
       "      <td>1</td>\n",
       "    </tr>\n",
       "  </tbody>\n",
       "</table>\n",
       "<p>441 rows × 5 columns</p>\n",
       "</div>"
      ],
      "text/plain": [
       "         Session_ID              Time_stamp    Item_ID  Price  Quantity\n",
       "902697      9515487 2014-09-02 00:15:06.202  214850949   1360         1\n",
       "902698      9515487 2014-09-02 00:15:06.203  214850949   1360         2\n",
       "902699      9515487 2014-09-02 00:15:06.212  214845971    994         1\n",
       "902700      9515487 2014-09-02 00:15:07.221  214850949   1360         1\n",
       "902701      9515487 2014-09-02 00:15:07.370  214850949   1360         2\n",
       "902702      9515487 2014-09-02 00:15:07.388  214845971    994         1\n",
       "904615      9435637 2014-09-02 01:24:49.189  214849762    554         1\n",
       "904616      9435637 2014-09-02 01:24:49.243  214853698    837         1\n",
       "904617      9435637 2014-09-02 01:24:49.311  214853730   1570         1\n",
       "904618      9435637 2014-09-02 01:24:49.351  214853707   2093         1\n",
       "904619      9435637 2014-09-02 01:24:49.395  214705734   1046         1\n",
       "904620      9435637 2014-09-02 01:24:49.419  214853702    523         1\n",
       "904621      9435637 2014-09-02 01:24:49.430  214853700    837         1\n",
       "904622      9435637 2014-09-02 01:24:49.436  214854118   1360         1\n",
       "904623      9435637 2014-09-02 01:24:49.447  214853330    627         1\n",
       "906813      9572387 2014-09-02 00:42:10.895  214677422  18745         1\n",
       "908474      9716149 2014-09-02 02:58:11.183  214832546    152         1\n",
       "908475      9716149 2014-09-02 02:58:11.246  214832323    183         1\n",
       "908476      9716149 2014-09-02 02:58:11.398  214832347     62         2\n",
       "908477      9716149 2014-09-02 02:58:11.418  214832492     99         5\n",
       "908478      9716149 2014-09-02 02:58:11.430  214832334     62         3\n",
       "908479      9716149 2014-09-02 02:58:11.434  214832315    261         1\n",
       "908480      9716149 2014-09-02 02:58:11.472  214832398     26         4\n",
       "908942      9578893 2014-09-02 00:48:04.858  214845506   6282         2\n",
       "918319      9412787 2014-09-02 02:53:16.467  214602356   9947         1\n",
       "919042      9461892 2014-09-02 01:18:36.936  214838107   1465         2\n",
       "919043      9461892 2014-09-02 01:18:36.988  214850310    784         2\n",
       "922616      9416829 2014-09-02 02:16:50.452  214853402   2617         1\n",
       "927816      9454388 2014-09-02 00:15:45.836  214840569  80006         1\n",
       "929927      9704848 2014-09-02 02:23:21.211  214840412   3141         1\n",
       "...             ...                     ...        ...    ...       ...\n",
       "1006035    10152607 2014-09-02 07:40:55.367  214853722    418         1\n",
       "1006745    10226506 2014-09-02 05:58:36.610  214836326   2722         1\n",
       "1006746    10226506 2014-09-02 05:58:36.784  214827020   4397         1\n",
       "1006766     9797738 2014-09-02 08:40:43.562  214711537   6282         1\n",
       "1006767     9797738 2014-09-02 08:40:43.655  214853722    418         2\n",
       "1006768     9797738 2014-09-02 08:40:43.866  214717867   1570         2\n",
       "1006845     9876776 2014-09-02 09:07:11.973  214853220   2617         1\n",
       "1007051     9876651 2014-09-02 13:03:27.189  214853992    627         2\n",
       "1007052     9876651 2014-09-02 13:03:27.260  214854262    837         2\n",
       "1007053     9876651 2014-09-02 13:03:27.338  214854510    941         2\n",
       "1007054     9876651 2014-09-02 13:03:27.502  214853715    177         1\n",
       "1007055     9876651 2014-09-02 13:03:27.530  214716671    449         1\n",
       "1007116    10014716 2014-09-02 10:51:55.078  214853342   2093         4\n",
       "1007117    10014716 2014-09-02 10:51:55.149  214853420   1046         2\n",
       "1007118    10014716 2014-09-02 10:51:55.221  214853340    837         4\n",
       "1008209    10047529 2014-09-02 20:21:21.112  214854148    418         2\n",
       "1008210    10047529 2014-09-02 20:21:21.164  214850790    784         1\n",
       "1008211    10047529 2014-09-02 20:21:21.200  214853865    418         1\n",
       "1008212    10047529 2014-09-02 20:21:21.212  214853994    627         1\n",
       "1008213    10047529 2014-09-02 20:21:21.227  214853992    627         1\n",
       "1008214    10047529 2014-09-02 20:21:21.244  214853846    177         1\n",
       "1008215    10047529 2014-09-02 20:21:21.259  214853715    177         1\n",
       "1008216    10047529 2014-09-02 20:21:21.268  214854060   1046         1\n",
       "1008217    10047529 2014-09-02 20:21:21.309  214853767   1046         1\n",
       "1008218    10047529 2014-09-02 20:21:21.326  214853422    418         1\n",
       "1008635    10047786 2014-09-02 15:26:55.701  214853992    627         1\n",
       "1008636    10047786 2014-09-02 15:26:55.710  214853865    418         1\n",
       "1008637    10047786 2014-09-02 15:26:55.721  214854165    418         1\n",
       "1008638    10047786 2014-09-02 15:26:55.734  214850790    784         1\n",
       "1008639    10047786 2014-09-02 15:26:55.747  214854172   1046         1\n",
       "\n",
       "[441 rows x 5 columns]"
      ]
     },
     "execution_count": 77,
     "metadata": {},
     "output_type": "execute_result"
    }
   ],
   "source": [
    "df_buys_ALL"
   ]
  },
  {
   "cell_type": "code",
   "execution_count": 78,
   "metadata": {},
   "outputs": [],
   "source": [
    "indexes = ['Session_ID', 'Item_ID']\n",
    "df = df_clicks_ALL.merge(df_buys_ALL, how='left', on = indexes)"
   ]
  },
  {
   "cell_type": "code",
   "execution_count": 79,
   "metadata": {},
   "outputs": [],
   "source": [
    "df_buys_ALL['Buyer'] = df['Item_ID'].map(lambda x:x is not None)"
   ]
  },
  {
   "cell_type": "code",
   "execution_count": 80,
   "metadata": {},
   "outputs": [],
   "source": [
    "df['Time_stamp_y'] = df['Time_stamp_y'].fillna(df['Time_stamp_x'])"
   ]
  },
  {
   "cell_type": "code",
   "execution_count": 81,
   "metadata": {},
   "outputs": [],
   "source": [
    "df['Buyer'] = df['Quantity'] > 0"
   ]
  },
  {
   "cell_type": "code",
   "execution_count": 82,
   "metadata": {},
   "outputs": [],
   "source": [
    "df.columns = ['Session_ID','Clicked_Time','Item_ID','Category','Buy_Time','Price','Quantity', 'Buyer']\n",
    "df['Quantity'] = df['Quantity'].fillna(0)\n",
    "df['Price'] = df['Price'].fillna(0)\n",
    "df['Buy_Time'] = df['Buy_Time'].fillna(df['Clicked_Time'])"
   ]
  },
  {
   "cell_type": "code",
   "execution_count": 83,
   "metadata": {},
   "outputs": [],
   "source": [
    "df['Clicked_Weekday'] = pd.Series(df['Clicked_Time'].apply(lambda x: x.weekday()))\n",
    "df['Clicked_HourOfDay'] = pd.Series(df['Clicked_Time'].apply(lambda x: x.hour))\n",
    "df['Clicked_Day'] = pd.Series(df['Clicked_Time'].apply(lambda x: x.strftime('%m/%d')))\n",
    "df['Buy_Day'] = pd.Series(df['Buy_Time'].apply(lambda x: x.strftime('%m/%d')))"
   ]
  },
  {
   "cell_type": "code",
   "execution_count": 84,
   "metadata": {},
   "outputs": [],
   "source": [
    "Time_Delta = abs(df['Buy_Time'] - df['Clicked_Time']).apply(lambda x: x / np.timedelta64(1, 'm'))\n",
    "df['Time_Gap'] = pd.Series(Time_Delta)\n",
    "df['Sales'] = pd.Series((df['Price'] * df['Quantity']).apply(lambda x: x))"
   ]
  },
  {
   "cell_type": "code",
   "execution_count": 85,
   "metadata": {},
   "outputs": [
    {
     "data": {
      "text/plain": [
       "Clicked_Day\n",
       "09/02    52.881675\n",
       "Name: Sales, dtype: float64"
      ]
     },
     "execution_count": 85,
     "metadata": {},
     "output_type": "execute_result"
    }
   ],
   "source": [
    "df_buyrate = df.groupby('Clicked_Day')['Sales'].mean()\n",
    "df_buyrate.head()"
   ]
  },
  {
   "cell_type": "code",
   "execution_count": 86,
   "metadata": {},
   "outputs": [
    {
     "data": {
      "text/plain": [
       "Text(0.5, 0.98, 'Total Sales (USD)')"
      ]
     },
     "execution_count": 86,
     "metadata": {},
     "output_type": "execute_result"
    },
    {
     "data": {
      "image/png": "[encoded data removed]",
      "text/plain": [
       "<Figure size 360x144 with 1 Axes>"
      ]
     },
     "metadata": {
      "needs_background": "light"
     },
     "output_type": "display_data"
    }
   ],
   "source": [
    "df_buyrate = df.groupby('Clicked_Day')['Sales'].mean()\n",
    "fig = df_buyrate.sort_index().plot(figsize=(5,2), grid=True, linewidth=1).get_figure()\n",
    "fig.suptitle('Total Sales (USD)')"
   ]
  },
  {
   "cell_type": "code",
   "execution_count": 87,
   "metadata": {},
   "outputs": [
    {
     "data": {
      "image/png": "[encoded data removed]",
      "text/plain": [
       "<Figure size 720x288 with 2 Axes>"
      ]
     },
     "metadata": {
      "needs_background": "light"
     },
     "output_type": "display_data"
    }
   ],
   "source": [
    "fig, axs = plt.subplots(1, 2, figsize=(10,4))\n",
    "df_buy_hour = df.groupby('Clicked_HourOfDay')['Sales'].mean()\n",
    "df_buy_hour.sort_index().plot(ax=axs[0], grid=True, linewidth=2).get_figure()\n",
    "axs[0].set_ylabel('Total Salse (USD)')\n",
    "axs[0].set_xlabel('Buy Hours of Day')\n",
    "\n",
    "WEEKDAY_TO_NAME = {0: 'Mon', 1: 'Tue', 2: 'Wed', 3: 'Thu', \n",
    "                   4: 'Fri', 5: 'Sat', 6: 'Sun',}\n",
    "\n",
    "df_buy_day = df.groupby('Clicked_Weekday')['Sales'].mean()\n",
    "df_buy_day = df_buy_day.sort_index().reset_index()\n",
    "df_buy_day['Clicked_Weekday'] = df_buy_day['Clicked_Weekday'].map(lambda n: WEEKDAY_TO_NAME[n])\n",
    "df_buy_day = df_buy_day.set_index('Clicked_Weekday')\n",
    "df_buy_day.plot(ax=axs[1], kind='bar', legend=False, grid=True, linewidth=2, sharey=True).get_figure()\n",
    "fig.savefig(\"df_click_on_hours_and_weekday.pdf\")"
   ]
  },
  {
   "cell_type": "code",
   "execution_count": 88,
   "metadata": {},
   "outputs": [
    {
     "data": {
      "text/html": [
       "<div>\n",
       "<style scoped>\n",
       "    .dataframe tbody tr th:only-of-type {\n",
       "        vertical-align: middle;\n",
       "    }\n",
       "\n",
       "    .dataframe tbody tr th {\n",
       "        vertical-align: top;\n",
       "    }\n",
       "\n",
       "    .dataframe thead th {\n",
       "        text-align: right;\n",
       "    }\n",
       "</style>\n",
       "<table border=\"1\" class=\"dataframe\">\n",
       "  <thead>\n",
       "    <tr style=\"text-align: right;\">\n",
       "      <th></th>\n",
       "      <th>Session_ID</th>\n",
       "      <th>Time_stamp</th>\n",
       "      <th>Item_ID</th>\n",
       "      <th>Price</th>\n",
       "      <th>Quantity</th>\n",
       "      <th>Buyer</th>\n",
       "      <th>Buy_Weekday</th>\n",
       "      <th>Buy_HourOfDay</th>\n",
       "      <th>Buy_Day</th>\n",
       "      <th>Sales</th>\n",
       "    </tr>\n",
       "  </thead>\n",
       "  <tbody>\n",
       "    <tr>\n",
       "      <th>902697</th>\n",
       "      <td>9515487</td>\n",
       "      <td>2014-09-02 00:15:06.202</td>\n",
       "      <td>214850949</td>\n",
       "      <td>1360</td>\n",
       "      <td>1</td>\n",
       "      <td>NaN</td>\n",
       "      <td>1</td>\n",
       "      <td>0</td>\n",
       "      <td>09/02</td>\n",
       "      <td>1360</td>\n",
       "    </tr>\n",
       "    <tr>\n",
       "      <th>902698</th>\n",
       "      <td>9515487</td>\n",
       "      <td>2014-09-02 00:15:06.203</td>\n",
       "      <td>214850949</td>\n",
       "      <td>1360</td>\n",
       "      <td>2</td>\n",
       "      <td>NaN</td>\n",
       "      <td>1</td>\n",
       "      <td>0</td>\n",
       "      <td>09/02</td>\n",
       "      <td>2720</td>\n",
       "    </tr>\n",
       "    <tr>\n",
       "      <th>902699</th>\n",
       "      <td>9515487</td>\n",
       "      <td>2014-09-02 00:15:06.212</td>\n",
       "      <td>214845971</td>\n",
       "      <td>994</td>\n",
       "      <td>1</td>\n",
       "      <td>NaN</td>\n",
       "      <td>1</td>\n",
       "      <td>0</td>\n",
       "      <td>09/02</td>\n",
       "      <td>994</td>\n",
       "    </tr>\n",
       "    <tr>\n",
       "      <th>902700</th>\n",
       "      <td>9515487</td>\n",
       "      <td>2014-09-02 00:15:07.221</td>\n",
       "      <td>214850949</td>\n",
       "      <td>1360</td>\n",
       "      <td>1</td>\n",
       "      <td>NaN</td>\n",
       "      <td>1</td>\n",
       "      <td>0</td>\n",
       "      <td>09/02</td>\n",
       "      <td>1360</td>\n",
       "    </tr>\n",
       "    <tr>\n",
       "      <th>902701</th>\n",
       "      <td>9515487</td>\n",
       "      <td>2014-09-02 00:15:07.370</td>\n",
       "      <td>214850949</td>\n",
       "      <td>1360</td>\n",
       "      <td>2</td>\n",
       "      <td>NaN</td>\n",
       "      <td>1</td>\n",
       "      <td>0</td>\n",
       "      <td>09/02</td>\n",
       "      <td>2720</td>\n",
       "    </tr>\n",
       "  </tbody>\n",
       "</table>\n",
       "</div>"
      ],
      "text/plain": [
       "        Session_ID              Time_stamp    Item_ID  Price  Quantity Buyer  \\\n",
       "902697     9515487 2014-09-02 00:15:06.202  214850949   1360         1   NaN   \n",
       "902698     9515487 2014-09-02 00:15:06.203  214850949   1360         2   NaN   \n",
       "902699     9515487 2014-09-02 00:15:06.212  214845971    994         1   NaN   \n",
       "902700     9515487 2014-09-02 00:15:07.221  214850949   1360         1   NaN   \n",
       "902701     9515487 2014-09-02 00:15:07.370  214850949   1360         2   NaN   \n",
       "\n",
       "        Buy_Weekday  Buy_HourOfDay Buy_Day  Sales  \n",
       "902697            1              0   09/02   1360  \n",
       "902698            1              0   09/02   2720  \n",
       "902699            1              0   09/02    994  \n",
       "902700            1              0   09/02   1360  \n",
       "902701            1              0   09/02   2720  "
      ]
     },
     "execution_count": 88,
     "metadata": {},
     "output_type": "execute_result"
    }
   ],
   "source": [
    "df_buys_ALL['Buy_Weekday'] = pd.Series(df_buys_ALL['Time_stamp'].apply(lambda x: x.weekday()))\n",
    "df_buys_ALL['Buy_HourOfDay'] = pd.Series(df_buys_ALL['Time_stamp'].apply(lambda x: x.hour))\n",
    "df_buys_ALL['Buy_Day'] = pd.Series(df_buys_ALL['Time_stamp'].apply(lambda x: x.strftime('%m/%d')))\n",
    "df_buys_ALL['Sales'] = pd.Series((df_buys_ALL['Price'] * df_buys_ALL['Quantity']).apply(lambda x: x))\n",
    "df_buys_ALL.head()"
   ]
  },
  {
   "cell_type": "code",
   "execution_count": 89,
   "metadata": {},
   "outputs": [
    {
     "data": {
      "text/plain": [
       "Text(0.5, 0.98, 'Average Sales (USD)')"
      ]
     },
     "execution_count": 89,
     "metadata": {},
     "output_type": "execute_result"
    },
    {
     "data": {
      "image/png": "[encoded data removed]",
      "text/plain": [
       "<Figure size 360x144 with 1 Axes>"
      ]
     },
     "metadata": {
      "needs_background": "light"
     },
     "output_type": "display_data"
    }
   ],
   "source": [
    "df_buyrate = df_buys_ALL.groupby('Buy_Day')['Price'].mean()\n",
    "fig = df_buyrate.sort_index().plot(figsize=(5,2), grid=True, linewidth=1).get_figure()\n",
    "fig.suptitle('Average Sales (USD)')"
   ]
  },
  {
   "cell_type": "code",
   "execution_count": 90,
   "metadata": {},
   "outputs": [
    {
     "data": {
      "text/plain": [
       "Text(0.5, 0.98, 'Average Sales (USD)')"
      ]
     },
     "execution_count": 90,
     "metadata": {},
     "output_type": "execute_result"
    },
    {
     "data": {
      "image/png": "[encoded data removed]",
      "text/plain": [
       "<Figure size 360x144 with 1 Axes>"
      ]
     },
     "metadata": {
      "needs_background": "light"
     },
     "output_type": "display_data"
    }
   ],
   "source": [
    "df_buyrate = df_buys_ALL.groupby('Buy_Day')['Sales'].mean()\n",
    "fig = df_buyrate.sort_index().plot(figsize=(5,2), grid=True, linewidth=1).get_figure()\n",
    "fig.suptitle('Average Sales (USD)')"
   ]
  },
  {
   "cell_type": "code",
   "execution_count": 91,
   "metadata": {},
   "outputs": [
    {
     "data": {
      "image/png": "[encoded data removed]",
      "text/plain": [
       "<Figure size 720x288 with 2 Axes>"
      ]
     },
     "metadata": {
      "needs_background": "light"
     },
     "output_type": "display_data"
    }
   ],
   "source": [
    "fig, axs = plt.subplots(1, 2, figsize=(10,4))\n",
    "df_buy_hour = df_buys_ALL.groupby('Buy_HourOfDay')['Sales'].mean()\n",
    "df_buy_hour.sort_index().plot(ax=axs[0], grid=True, linewidth=2).get_figure()\n",
    "axs[0].set_ylabel('Total Salse (USD)')\n",
    "axs[0].set_xlabel('Buy Hours of Day')\n",
    "\n",
    "WEEKDAY_TO_NAME = {0: 'Mon', 1: 'Tue', 2: 'Wed', 3: 'Thu', \n",
    "                   4: 'Fri', 5: 'Sat', 6: 'Sun',}\n",
    "\n",
    "df_buy_day = df_buys_ALL.groupby('Buy_Weekday')['Sales'].mean()\n",
    "df_buy_day = df_buy_day.sort_index().reset_index()\n",
    "df_buy_day['Buy_Weekday'] = df_buy_day['Buy_Weekday'].map(lambda n: WEEKDAY_TO_NAME[n])\n",
    "df_buy_day = df_buy_day.set_index('Buy_Weekday')\n",
    "df_buy_day.plot(ax=axs[1], kind='bar', legend=False, grid=True, linewidth=2, sharey=True).get_figure()\n",
    "fig.savefig(\"df_sales_on_hours_and_weekday.pdf\")"
   ]
  },
  {
   "cell_type": "code",
   "execution_count": 92,
   "metadata": {},
   "outputs": [],
   "source": [
    "from sklearn.metrics import *\n",
    "from sklearn.model_selection import cross_val_score, KFold, cross_val_predict"
   ]
  },
  {
   "cell_type": "code",
   "execution_count": 94,
   "metadata": {},
   "outputs": [],
   "source": [
    "def classification_metrics(Y_pred, Y_true):\n",
    "    #NOTE: It is important to provide the output in the same order\n",
    "    return (accuracy_score(Y_true,Y_pred),\n",
    "            roc_auc_score(Y_true,Y_pred),\n",
    "            precision_score(Y_true,Y_pred),\n",
    "            recall_score(Y_true,Y_pred),\n",
    "            f1_score(Y_true,Y_pred))"
   ]
  },
  {
   "cell_type": "code",
   "execution_count": 95,
   "metadata": {},
   "outputs": [],
   "source": [
    "def plot_PR(Y_pred,Y_test):\n",
    "    average_precision = average_precision_score(Y_test, Y_pred)\n",
    "    precision, recall, _ = precision_recall_curve(Y_test, Y_pred)\n",
    "    plt.step(recall, precision, color='b', alpha=0.2,where='post')\n",
    "    plt.fill_between(recall, precision, step='post', alpha=0.2,color='b')\n",
    "\n",
    "    plt.xlabel('Recall')\n",
    "    plt.ylabel('Precision')\n",
    "    plt.ylim([0.0, 1.05])\n",
    "    plt.xlim([0.0, 1.0])\n",
    "    plt.title('2-class Precision-Recall curve: AP={0:0.2f}'.format(average_precision))"
   ]
  },
  {
   "cell_type": "code",
   "execution_count": 96,
   "metadata": {},
   "outputs": [],
   "source": [
    "def display_metrics(classifireName, Y_pred, Y_true):\n",
    "    print(\"______________________________________________\")\n",
    "    print(\"Classifier: \"+classifireName)\n",
    "    acc, auc_, precision, recall, f1score = classification_metrics(Y_pred,Y_true)\n",
    "    print(\"Accuracy: \"+str(acc))\n",
    "    print(\"ROC AUC: \"+str(auc_))\n",
    "    print(\"Precision: \"+str(precision))\n",
    "    print(\"Recall: \"+str(recall))\n",
    "    print(\"F1-score: \"+str(f1score))\n",
    "    print(\"______________________________________________\")\n",
    "    print(\"\")"
   ]
  },
  {
   "cell_type": "code",
   "execution_count": 97,
   "metadata": {},
   "outputs": [],
   "source": [
    "def plot_ROC(Y_pred, Y_test):\n",
    "    # Compute ROC curve and ROC area for each class\n",
    "    fpr = dict()\n",
    "    tpr = dict()\n",
    "    roc_auc = dict()\n",
    "    # for i in range(n_classes):\n",
    "    fpr, tpr, _ = roc_curve(Y_test, Y_pred)\n",
    "    roc_auc = auc(fpr, tpr)\n",
    "    plt.figure()\n",
    "    lw = 3 #Line Width\n",
    "    plt.plot(fpr, tpr, color='darkorange',\n",
    "             lw=lw, label='ROC curve (area = %0.2f)' % roc_auc)\n",
    "    plt.plot([0, 1], [0, 1], color='navy', lw=lw, linestyle='--')\n",
    "    plt.xlim([0.0, 1.0])\n",
    "    plt.ylim([0.0, 1.05])\n",
    "    plt.xlabel('False Positive Rate')\n",
    "    plt.ylabel('True Positive Rate')\n",
    "    plt.title('ROC Curve of user become a buyer')\n",
    "    plt.legend(loc=\"lower right\")\n",
    "    plt.show()"
   ]
  },
  {
   "cell_type": "code",
   "execution_count": 99,
   "metadata": {},
   "outputs": [],
   "source": [
    "import numpy as np\n",
    "import itertools\n",
    "from sklearn.metrics import confusion_matrix\n",
    "\n",
    "class_names = ['Positive', 'Negative']\n",
    "\n",
    "\n",
    "def plot_confusion_matrix(cm, classes,\n",
    "                          normalize=False,\n",
    "                          title='Confusion matrix',\n",
    "                          cmap=plt.cm.Reds):\n",
    "    \"\"\"\n",
    "    This function prints and plots the confusion matrix.\n",
    "    Normalization can be applied by setting normalize=True.\n",
    "    \"\"\"\n",
    "    if normalize:\n",
    "        cm = cm.astype('float') / cm.sum(axis=1)[:, np.newaxis]\n",
    "\n",
    "    plt.imshow(cm, interpolation='nearest', cmap=cmap)\n",
    "    plt.title(title)\n",
    "    plt.colorbar()\n",
    "    tick_marks = np.arange(len(classes))\n",
    "    plt.xticks(tick_marks, classes, rotation=45)\n",
    "    plt.yticks(tick_marks, classes)\n",
    "\n",
    "    fmt = '.2f' if normalize else 'd'\n",
    "    thresh = cm.max() / 2.\n",
    "    for i, j in itertools.product(range(cm.shape[0]), range(cm.shape[1])):\n",
    "        plt.text(j, i, format(cm[i, j], fmt),\n",
    "                 horizontalalignment=\"center\",\n",
    "                 color=\"white\" if cm[i, j] > thresh else \"black\")\n",
    "\n",
    "    plt.tight_layout()\n",
    "    plt.ylabel('True label')\n",
    "    plt.xlabel('Predicted label')"
   ]
  },
  {
   "cell_type": "code",
   "execution_count": 100,
   "metadata": {},
   "outputs": [],
   "source": [
    "RANDOM_STATE = 903434960"
   ]
  },
  {
   "cell_type": "code",
   "execution_count": 101,
   "metadata": {},
   "outputs": [],
   "source": [
    "X1 = df.drop(['Item_ID','Clicked_Time',\\\n",
    "            'Category','Buy_Time','Buyer',\\\n",
    "            'Clicked_Day','Buy_Day'],axis=1)\n",
    "Y1 = df['Buyer'].values"
   ]
  },
  {
   "cell_type": "code",
   "execution_count": 102,
   "metadata": {},
   "outputs": [],
   "source": [
    "from sklearn.model_selection import train_test_split\n",
    "\n",
    "X1_train, X1_test, Y1_train, Y1_test = train_test_split(X1, Y1, test_size=0.2, random_state=RANDOM_STATE)"
   ]
  },
  {
   "cell_type": "code",
   "execution_count": 103,
   "metadata": {},
   "outputs": [],
   "source": [
    "from sklearn.linear_model import LogisticRegression\n",
    "from sklearn.metrics import accuracy_score"
   ]
  },
  {
   "cell_type": "code",
   "execution_count": 104,
   "metadata": {
    "scrolled": false
   },
   "outputs": [
    {
     "name": "stderr",
     "output_type": "stream",
     "text": [
      "/usr/local/lib/python3.7/site-packages/sklearn/linear_model/logistic.py:433: FutureWarning: Default solver will be changed to 'lbfgs' in 0.22. Specify a solver to silence this warning.\n",
      "  FutureWarning)\n",
      "/usr/local/lib/python3.7/site-packages/sklearn/linear_model/logistic.py:433: FutureWarning: Default solver will be changed to 'lbfgs' in 0.22. Specify a solver to silence this warning.\n",
      "  FutureWarning)\n",
      "/usr/local/lib/python3.7/site-packages/sklearn/linear_model/logistic.py:433: FutureWarning: Default solver will be changed to 'lbfgs' in 0.22. Specify a solver to silence this warning.\n",
      "  FutureWarning)\n",
      "/usr/local/lib/python3.7/site-packages/sklearn/linear_model/logistic.py:433: FutureWarning: Default solver will be changed to 'lbfgs' in 0.22. Specify a solver to silence this warning.\n",
      "  FutureWarning)\n",
      "/usr/local/lib/python3.7/site-packages/sklearn/linear_model/logistic.py:433: FutureWarning: Default solver will be changed to 'lbfgs' in 0.22. Specify a solver to silence this warning.\n",
      "  FutureWarning)\n",
      "/usr/local/lib/python3.7/site-packages/sklearn/linear_model/logistic.py:433: FutureWarning: Default solver will be changed to 'lbfgs' in 0.22. Specify a solver to silence this warning.\n",
      "  FutureWarning)\n",
      "/usr/local/lib/python3.7/site-packages/sklearn/linear_model/logistic.py:433: FutureWarning: Default solver will be changed to 'lbfgs' in 0.22. Specify a solver to silence this warning.\n",
      "  FutureWarning)\n",
      "/usr/local/lib/python3.7/site-packages/sklearn/linear_model/logistic.py:433: FutureWarning: Default solver will be changed to 'lbfgs' in 0.22. Specify a solver to silence this warning.\n",
      "  FutureWarning)\n",
      "/usr/local/lib/python3.7/site-packages/sklearn/linear_model/logistic.py:433: FutureWarning: Default solver will be changed to 'lbfgs' in 0.22. Specify a solver to silence this warning.\n",
      "  FutureWarning)\n",
      "/usr/local/lib/python3.7/site-packages/sklearn/linear_model/logistic.py:433: FutureWarning: Default solver will be changed to 'lbfgs' in 0.22. Specify a solver to silence this warning.\n",
      "  FutureWarning)\n",
      "/usr/local/lib/python3.7/site-packages/sklearn/linear_model/logistic.py:433: FutureWarning: Default solver will be changed to 'lbfgs' in 0.22. Specify a solver to silence this warning.\n",
      "  FutureWarning)\n",
      "/usr/local/lib/python3.7/site-packages/sklearn/linear_model/logistic.py:433: FutureWarning: Default solver will be changed to 'lbfgs' in 0.22. Specify a solver to silence this warning.\n",
      "  FutureWarning)\n",
      "/usr/local/lib/python3.7/site-packages/sklearn/linear_model/logistic.py:433: FutureWarning: Default solver will be changed to 'lbfgs' in 0.22. Specify a solver to silence this warning.\n",
      "  FutureWarning)\n",
      "/usr/local/lib/python3.7/site-packages/sklearn/linear_model/logistic.py:433: FutureWarning: Default solver will be changed to 'lbfgs' in 0.22. Specify a solver to silence this warning.\n",
      "  FutureWarning)\n",
      "/usr/local/lib/python3.7/site-packages/sklearn/linear_model/logistic.py:433: FutureWarning: Default solver will be changed to 'lbfgs' in 0.22. Specify a solver to silence this warning.\n",
      "  FutureWarning)\n",
      "/usr/local/lib/python3.7/site-packages/sklearn/linear_model/logistic.py:433: FutureWarning: Default solver will be changed to 'lbfgs' in 0.22. Specify a solver to silence this warning.\n",
      "  FutureWarning)\n",
      "/usr/local/lib/python3.7/site-packages/sklearn/linear_model/logistic.py:433: FutureWarning: Default solver will be changed to 'lbfgs' in 0.22. Specify a solver to silence this warning.\n",
      "  FutureWarning)\n",
      "/usr/local/lib/python3.7/site-packages/sklearn/linear_model/logistic.py:433: FutureWarning: Default solver will be changed to 'lbfgs' in 0.22. Specify a solver to silence this warning.\n",
      "  FutureWarning)\n",
      "/usr/local/lib/python3.7/site-packages/sklearn/linear_model/logistic.py:433: FutureWarning: Default solver will be changed to 'lbfgs' in 0.22. Specify a solver to silence this warning.\n",
      "  FutureWarning)\n",
      "/usr/local/lib/python3.7/site-packages/sklearn/linear_model/logistic.py:433: FutureWarning: Default solver will be changed to 'lbfgs' in 0.22. Specify a solver to silence this warning.\n",
      "  FutureWarning)\n"
     ]
    },
    {
     "name": "stdout",
     "output_type": "stream",
     "text": [
      "______________________________________________\n",
      "Classifier: Logistic Regression\n",
      "Accuracy: 0.9966702064472003\n",
      "ROC AUC: 0.8729395604395604\n",
      "Precision: 1.0\n",
      "Recall: 0.7458791208791209\n",
      "F1-score: 0.8544453186467349\n",
      "______________________________________________\n",
      "\n"
     ]
    }
   ],
   "source": [
    "model = LogisticRegression()\n",
    "\n",
    "k_fold = KFold(n_splits=10, random_state=RANDOM_STATE) \n",
    "score = cross_val_score(model, X1, Y1, cv=k_fold, scoring='accuracy').mean()\n",
    "Y_pred = cross_val_predict(model, X1, Y1, cv=k_fold)\n",
    "\n",
    "display_metrics(\"Logistic Regression\",Y_pred, Y1)"
   ]
  },
  {
   "cell_type": "code",
   "execution_count": 105,
   "metadata": {
    "scrolled": false
   },
   "outputs": [
    {
     "data": {
      "image/png": "[encoded data removed]",
      "text/plain": [
       "<Figure size 432x288 with 1 Axes>"
      ]
     },
     "metadata": {
      "needs_background": "light"
     },
     "output_type": "display_data"
    }
   ],
   "source": [
    "plot_PR(Y_pred,Y1)"
   ]
  },
  {
   "cell_type": "code",
   "execution_count": 106,
   "metadata": {},
   "outputs": [
    {
     "data": {
      "image/png": "[encoded data removed]",
      "text/plain": [
       "<Figure size 432x288 with 1 Axes>"
      ]
     },
     "metadata": {
      "needs_background": "light"
     },
     "output_type": "display_data"
    }
   ],
   "source": [
    "plot_ROC(Y_pred, Y1)"
   ]
  },
  {
   "cell_type": "code",
   "execution_count": 107,
   "metadata": {},
   "outputs": [
    {
     "name": "stderr",
     "output_type": "stream",
     "text": [
      "/usr/local/lib/python3.7/site-packages/sklearn/preprocessing/data.py:625: DataConversionWarning: Data with input dtype int64, float64 were all converted to float64 by StandardScaler.\n",
      "  return self.partial_fit(X, y)\n",
      "/usr/local/lib/python3.7/site-packages/ipykernel_launcher.py:4: DataConversionWarning: Data with input dtype int64, float64 were all converted to float64 by StandardScaler.\n",
      "  after removing the cwd from sys.path.\n"
     ]
    }
   ],
   "source": [
    "from sklearn.preprocessing import StandardScaler\n",
    "scaler = StandardScaler()\n",
    "scaler.fit(X1)\n",
    "X1 = scaler.transform(X1)"
   ]
  },
  {
   "cell_type": "code",
   "execution_count": 108,
   "metadata": {},
   "outputs": [
    {
     "data": {
      "text/plain": [
       "(-4.40792370929381, 103.54644836741168)"
      ]
     },
     "execution_count": 108,
     "metadata": {},
     "output_type": "execute_result"
    }
   ],
   "source": [
    "X1.min(), X1.max()"
   ]
  },
  {
   "cell_type": "code",
   "execution_count": 109,
   "metadata": {},
   "outputs": [
    {
     "name": "stderr",
     "output_type": "stream",
     "text": [
      "/usr/local/lib/python3.7/site-packages/sklearn/linear_model/logistic.py:433: FutureWarning: Default solver will be changed to 'lbfgs' in 0.22. Specify a solver to silence this warning.\n",
      "  FutureWarning)\n",
      "/usr/local/lib/python3.7/site-packages/sklearn/linear_model/logistic.py:433: FutureWarning: Default solver will be changed to 'lbfgs' in 0.22. Specify a solver to silence this warning.\n",
      "  FutureWarning)\n",
      "/usr/local/lib/python3.7/site-packages/sklearn/linear_model/logistic.py:433: FutureWarning: Default solver will be changed to 'lbfgs' in 0.22. Specify a solver to silence this warning.\n",
      "  FutureWarning)\n",
      "/usr/local/lib/python3.7/site-packages/sklearn/linear_model/logistic.py:433: FutureWarning: Default solver will be changed to 'lbfgs' in 0.22. Specify a solver to silence this warning.\n",
      "  FutureWarning)\n"
     ]
    },
    {
     "name": "stdout",
     "output_type": "stream",
     "text": [
      "______________________________________________\n",
      "Classifier: Logistic Regression\n",
      "Accuracy: 1.0\n",
      "ROC AUC: 1.0\n",
      "Precision: 1.0\n",
      "Recall: 1.0\n",
      "F1-score: 1.0\n",
      "______________________________________________\n",
      "\n"
     ]
    }
   ],
   "source": [
    "model = LogisticRegression()\n",
    "\n",
    "k_fold = KFold(n_splits=2, random_state=RANDOM_STATE) \n",
    "score = cross_val_score(model, X1, Y1, cv=k_fold, scoring='accuracy').mean()\n",
    "Y_pred = cross_val_predict(model, X1, Y1, cv=k_fold)\n",
    "\n",
    "display_metrics(\"Logistic Regression\",Y_pred, Y1)"
   ]
  },
  {
   "cell_type": "code",
   "execution_count": 110,
   "metadata": {},
   "outputs": [
    {
     "data": {
      "image/png": "[encoded data removed]",
      "text/plain": [
       "<Figure size 432x288 with 1 Axes>"
      ]
     },
     "metadata": {
      "needs_background": "light"
     },
     "output_type": "display_data"
    }
   ],
   "source": [
    "plot_PR(Y_pred,Y1)"
   ]
  },
  {
   "cell_type": "code",
   "execution_count": 111,
   "metadata": {},
   "outputs": [
    {
     "data": {
      "image/png": "[encoded data removed]",
      "text/plain": [
       "<Figure size 432x288 with 1 Axes>"
      ]
     },
     "metadata": {
      "needs_background": "light"
     },
     "output_type": "display_data"
    }
   ],
   "source": [
    "plot_ROC(Y_pred, Y1)"
   ]
  },
  {
   "cell_type": "code",
   "execution_count": 112,
   "metadata": {},
   "outputs": [
    {
     "data": {
      "image/png": "[encoded data removed]",
      "text/plain": [
       "<Figure size 432x288 with 2 Axes>"
      ]
     },
     "metadata": {
      "needs_background": "light"
     },
     "output_type": "display_data"
    },
    {
     "data": {
      "image/png": "[encoded data removed]",
      "text/plain": [
       "<Figure size 432x288 with 2 Axes>"
      ]
     },
     "metadata": {
      "needs_background": "light"
     },
     "output_type": "display_data"
    }
   ],
   "source": [
    "# Compute confusion matrix\n",
    "cnf_matrix = confusion_matrix(Y1, Y_pred)\n",
    "np.set_printoptions(precision=2)\n",
    "\n",
    "# Plot non-normalized confusion matrix\n",
    "plt.figure()\n",
    "plot_confusion_matrix(cnf_matrix, classes=class_names,\n",
    "                      title='Confusion matrix')\n",
    "\n",
    "# Plot normalized confusion matrix\n",
    "plt.figure()\n",
    "plot_confusion_matrix(cnf_matrix, classes=class_names, normalize=True,\n",
    "                      title='Normalized confusion matrix')\n",
    "\n",
    "plt.show()"
   ]
  },
  {
   "cell_type": "code",
   "execution_count": 113,
   "metadata": {},
   "outputs": [],
   "source": [
    "from sklearn.neighbors import KNeighborsClassifier\n",
    "from sklearn.svm import SVC\n",
    "from sklearn.linear_model import LogisticRegression\n",
    "from sklearn.neural_network import MLPClassifier\n",
    "from sklearn.tree import DecisionTreeClassifier\n",
    "from sklearn.naive_bayes import GaussianNB\n",
    "from sklearn.ensemble import RandomForestClassifier\n",
    "from sklearn.ensemble import GradientBoostingClassifier"
   ]
  },
  {
   "cell_type": "code",
   "execution_count": 114,
   "metadata": {},
   "outputs": [],
   "source": [
    "models = []\n",
    "models.append(('DT', DecisionTreeClassifier(max_leaf_nodes=8)))\n",
    "models.append(('MLP', MLPClassifier(hidden_layer_sizes=(15,))))\n",
    "models.append(('RF', RandomForestClassifier()))\n",
    "models.append(('SVC', SVC()))\n",
    "models.append(('SVC_RBF', SVC(kernel='rbf')))\n",
    "models.append(('KNN_3', KNeighborsClassifier(n_neighbors=3)))\n",
    "models.append(('KNN_5', KNeighborsClassifier(n_neighbors=5)))\n",
    "models.append(('KNN_7', KNeighborsClassifier(n_neighbors=7)))\n",
    "# models.append(('GNB', GaussianNB()))\n",
    "# models.append(('GB', GradientBoostingClassifier()))"
   ]
  },
  {
   "cell_type": "code",
   "execution_count": 115,
   "metadata": {},
   "outputs": [
    {
     "name": "stderr",
     "output_type": "stream",
     "text": [
      "/usr/local/lib/python3.7/site-packages/sklearn/ensemble/forest.py:246: FutureWarning: The default value of n_estimators will change from 10 in version 0.20 to 100 in 0.22.\n",
      "  \"10 in version 0.20 to 100 in 0.22.\", FutureWarning)\n",
      "/usr/local/lib/python3.7/site-packages/sklearn/ensemble/forest.py:246: FutureWarning: The default value of n_estimators will change from 10 in version 0.20 to 100 in 0.22.\n",
      "  \"10 in version 0.20 to 100 in 0.22.\", FutureWarning)\n",
      "/usr/local/lib/python3.7/site-packages/sklearn/ensemble/forest.py:246: FutureWarning: The default value of n_estimators will change from 10 in version 0.20 to 100 in 0.22.\n",
      "  \"10 in version 0.20 to 100 in 0.22.\", FutureWarning)\n",
      "/usr/local/lib/python3.7/site-packages/sklearn/ensemble/forest.py:246: FutureWarning: The default value of n_estimators will change from 10 in version 0.20 to 100 in 0.22.\n",
      "  \"10 in version 0.20 to 100 in 0.22.\", FutureWarning)\n",
      "/usr/local/lib/python3.7/site-packages/sklearn/svm/base.py:196: FutureWarning: The default value of gamma will change from 'auto' to 'scale' in version 0.22 to account better for unscaled features. Set gamma explicitly to 'auto' or 'scale' to avoid this warning.\n",
      "  \"avoid this warning.\", FutureWarning)\n",
      "/usr/local/lib/python3.7/site-packages/sklearn/svm/base.py:196: FutureWarning: The default value of gamma will change from 'auto' to 'scale' in version 0.22 to account better for unscaled features. Set gamma explicitly to 'auto' or 'scale' to avoid this warning.\n",
      "  \"avoid this warning.\", FutureWarning)\n",
      "/usr/local/lib/python3.7/site-packages/sklearn/svm/base.py:196: FutureWarning: The default value of gamma will change from 'auto' to 'scale' in version 0.22 to account better for unscaled features. Set gamma explicitly to 'auto' or 'scale' to avoid this warning.\n",
      "  \"avoid this warning.\", FutureWarning)\n",
      "/usr/local/lib/python3.7/site-packages/sklearn/svm/base.py:196: FutureWarning: The default value of gamma will change from 'auto' to 'scale' in version 0.22 to account better for unscaled features. Set gamma explicitly to 'auto' or 'scale' to avoid this warning.\n",
      "  \"avoid this warning.\", FutureWarning)\n",
      "/usr/local/lib/python3.7/site-packages/sklearn/svm/base.py:196: FutureWarning: The default value of gamma will change from 'auto' to 'scale' in version 0.22 to account better for unscaled features. Set gamma explicitly to 'auto' or 'scale' to avoid this warning.\n",
      "  \"avoid this warning.\", FutureWarning)\n",
      "/usr/local/lib/python3.7/site-packages/sklearn/svm/base.py:196: FutureWarning: The default value of gamma will change from 'auto' to 'scale' in version 0.22 to account better for unscaled features. Set gamma explicitly to 'auto' or 'scale' to avoid this warning.\n",
      "  \"avoid this warning.\", FutureWarning)\n",
      "/usr/local/lib/python3.7/site-packages/sklearn/svm/base.py:196: FutureWarning: The default value of gamma will change from 'auto' to 'scale' in version 0.22 to account better for unscaled features. Set gamma explicitly to 'auto' or 'scale' to avoid this warning.\n",
      "  \"avoid this warning.\", FutureWarning)\n",
      "/usr/local/lib/python3.7/site-packages/sklearn/svm/base.py:196: FutureWarning: The default value of gamma will change from 'auto' to 'scale' in version 0.22 to account better for unscaled features. Set gamma explicitly to 'auto' or 'scale' to avoid this warning.\n",
      "  \"avoid this warning.\", FutureWarning)\n"
     ]
    }
   ],
   "source": [
    "from sklearn.model_selection import learning_curve\n",
    "names = []\n",
    "train_sizes = []\n",
    "train_scores = []\n",
    "valid_scores = []\n",
    "for name, model in models:\n",
    "    train_size, train_score, valid_score = learning_curve(model, X1, Y1, \n",
    "                                            train_sizes=[0.5, 0.8], cv=2)\n",
    "    names.append(name)\n",
    "    train_sizes.append(train_size)\n",
    "    train_scores.append(train_score)\n",
    "    valid_scores.append(valid_score)\n",
    "learning_curve_val = pd.DataFrame({'Name': names, \n",
    "                                   'Train_Sizes' : train_sizes,\n",
    "                                   'Train_Scores': train_scores,\n",
    "                                   'Validation_Scores': valid_scores})"
   ]
  },
  {
   "cell_type": "code",
   "execution_count": 116,
   "metadata": {},
   "outputs": [
    {
     "data": {
      "text/html": [
       "<div>\n",
       "<style scoped>\n",
       "    .dataframe tbody tr th:only-of-type {\n",
       "        vertical-align: middle;\n",
       "    }\n",
       "\n",
       "    .dataframe tbody tr th {\n",
       "        vertical-align: top;\n",
       "    }\n",
       "\n",
       "    .dataframe thead th {\n",
       "        text-align: right;\n",
       "    }\n",
       "</style>\n",
       "<table border=\"1\" class=\"dataframe\">\n",
       "  <thead>\n",
       "    <tr style=\"text-align: right;\">\n",
       "      <th></th>\n",
       "      <th>Name</th>\n",
       "      <th>Train_Sizes</th>\n",
       "      <th>Train_Scores</th>\n",
       "      <th>Validation_Scores</th>\n",
       "    </tr>\n",
       "  </thead>\n",
       "  <tbody>\n",
       "    <tr>\n",
       "      <th>0</th>\n",
       "      <td>DT</td>\n",
       "      <td>[13889, 22223]</td>\n",
       "      <td>[[1.0, 1.0], [1.0, 1.0]]</td>\n",
       "      <td>[[1.0, 1.0], [0.9999640028797696, 1.0]]</td>\n",
       "    </tr>\n",
       "    <tr>\n",
       "      <th>1</th>\n",
       "      <td>MLP</td>\n",
       "      <td>[13889, 22223]</td>\n",
       "      <td>[[1.0, 1.0], [1.0, 1.0]]</td>\n",
       "      <td>[[1.0, 1.0], [1.0, 1.0]]</td>\n",
       "    </tr>\n",
       "    <tr>\n",
       "      <th>2</th>\n",
       "      <td>RF</td>\n",
       "      <td>[13889, 22223]</td>\n",
       "      <td>[[1.0, 1.0], [1.0, 1.0]]</td>\n",
       "      <td>[[0.9999640028797696, 1.0], [1.0, 1.0]]</td>\n",
       "    </tr>\n",
       "    <tr>\n",
       "      <th>3</th>\n",
       "      <td>SVC</td>\n",
       "      <td>[13889, 22223]</td>\n",
       "      <td>[[1.0, 1.0], [1.0, 1.0]]</td>\n",
       "      <td>[[0.9594672426205904, 1.0], [0.959467242620590...</td>\n",
       "    </tr>\n",
       "    <tr>\n",
       "      <th>4</th>\n",
       "      <td>SVC_RBF</td>\n",
       "      <td>[13889, 22223]</td>\n",
       "      <td>[[1.0, 1.0], [1.0, 1.0]]</td>\n",
       "      <td>[[0.9594672426205904, 1.0], [0.959467242620590...</td>\n",
       "    </tr>\n",
       "    <tr>\n",
       "      <th>5</th>\n",
       "      <td>KNN_3</td>\n",
       "      <td>[13889, 22223]</td>\n",
       "      <td>[[1.0, 1.0], [1.0, 1.0]]</td>\n",
       "      <td>[[1.0, 1.0], [1.0, 1.0]]</td>\n",
       "    </tr>\n",
       "    <tr>\n",
       "      <th>6</th>\n",
       "      <td>KNN_5</td>\n",
       "      <td>[13889, 22223]</td>\n",
       "      <td>[[1.0, 1.0], [1.0, 1.0]]</td>\n",
       "      <td>[[1.0, 1.0], [1.0, 1.0]]</td>\n",
       "    </tr>\n",
       "    <tr>\n",
       "      <th>7</th>\n",
       "      <td>KNN_7</td>\n",
       "      <td>[13889, 22223]</td>\n",
       "      <td>[[1.0, 1.0], [1.0, 1.0]]</td>\n",
       "      <td>[[1.0, 1.0], [1.0, 1.0]]</td>\n",
       "    </tr>\n",
       "  </tbody>\n",
       "</table>\n",
       "</div>"
      ],
      "text/plain": [
       "      Name     Train_Sizes              Train_Scores  \\\n",
       "0       DT  [13889, 22223]  [[1.0, 1.0], [1.0, 1.0]]   \n",
       "1      MLP  [13889, 22223]  [[1.0, 1.0], [1.0, 1.0]]   \n",
       "2       RF  [13889, 22223]  [[1.0, 1.0], [1.0, 1.0]]   \n",
       "3      SVC  [13889, 22223]  [[1.0, 1.0], [1.0, 1.0]]   \n",
       "4  SVC_RBF  [13889, 22223]  [[1.0, 1.0], [1.0, 1.0]]   \n",
       "5    KNN_3  [13889, 22223]  [[1.0, 1.0], [1.0, 1.0]]   \n",
       "6    KNN_5  [13889, 22223]  [[1.0, 1.0], [1.0, 1.0]]   \n",
       "7    KNN_7  [13889, 22223]  [[1.0, 1.0], [1.0, 1.0]]   \n",
       "\n",
       "                                   Validation_Scores  \n",
       "0            [[1.0, 1.0], [0.9999640028797696, 1.0]]  \n",
       "1                           [[1.0, 1.0], [1.0, 1.0]]  \n",
       "2            [[0.9999640028797696, 1.0], [1.0, 1.0]]  \n",
       "3  [[0.9594672426205904, 1.0], [0.959467242620590...  \n",
       "4  [[0.9594672426205904, 1.0], [0.959467242620590...  \n",
       "5                           [[1.0, 1.0], [1.0, 1.0]]  \n",
       "6                           [[1.0, 1.0], [1.0, 1.0]]  \n",
       "7                           [[1.0, 1.0], [1.0, 1.0]]  "
      ]
     },
     "execution_count": 116,
     "metadata": {},
     "output_type": "execute_result"
    }
   ],
   "source": [
    "learning_curve_val"
   ]
  },
  {
   "cell_type": "code",
   "execution_count": 117,
   "metadata": {},
   "outputs": [
    {
     "name": "stderr",
     "output_type": "stream",
     "text": [
      "/usr/local/lib/python3.7/site-packages/sklearn/ensemble/forest.py:246: FutureWarning: The default value of n_estimators will change from 10 in version 0.20 to 100 in 0.22.\n",
      "  \"10 in version 0.20 to 100 in 0.22.\", FutureWarning)\n",
      "/usr/local/lib/python3.7/site-packages/sklearn/ensemble/forest.py:246: FutureWarning: The default value of n_estimators will change from 10 in version 0.20 to 100 in 0.22.\n",
      "  \"10 in version 0.20 to 100 in 0.22.\", FutureWarning)\n",
      "/usr/local/lib/python3.7/site-packages/sklearn/svm/base.py:196: FutureWarning: The default value of gamma will change from 'auto' to 'scale' in version 0.22 to account better for unscaled features. Set gamma explicitly to 'auto' or 'scale' to avoid this warning.\n",
      "  \"avoid this warning.\", FutureWarning)\n",
      "/usr/local/lib/python3.7/site-packages/sklearn/svm/base.py:196: FutureWarning: The default value of gamma will change from 'auto' to 'scale' in version 0.22 to account better for unscaled features. Set gamma explicitly to 'auto' or 'scale' to avoid this warning.\n",
      "  \"avoid this warning.\", FutureWarning)\n",
      "/usr/local/lib/python3.7/site-packages/sklearn/svm/base.py:196: FutureWarning: The default value of gamma will change from 'auto' to 'scale' in version 0.22 to account better for unscaled features. Set gamma explicitly to 'auto' or 'scale' to avoid this warning.\n",
      "  \"avoid this warning.\", FutureWarning)\n",
      "/usr/local/lib/python3.7/site-packages/sklearn/svm/base.py:196: FutureWarning: The default value of gamma will change from 'auto' to 'scale' in version 0.22 to account better for unscaled features. Set gamma explicitly to 'auto' or 'scale' to avoid this warning.\n",
      "  \"avoid this warning.\", FutureWarning)\n"
     ]
    },
    {
     "name": "stdout",
     "output_type": "stream",
     "text": [
      "      Name     Score\n",
      "0       DT  1.000000\n",
      "1      MLP  1.000000\n",
      "2       RF  1.000000\n",
      "5    KNN_3  1.000000\n",
      "6    KNN_5  1.000000\n",
      "7    KNN_7  1.000000\n",
      "3      SVC  0.980382\n",
      "4  SVC_RBF  0.980382\n"
     ]
    }
   ],
   "source": [
    "names = []\n",
    "scores = []\n",
    "for name, model in models:\n",
    "    \n",
    "    k_fold = KFold(n_splits=2, random_state=RANDOM_STATE) \n",
    "    score = cross_val_score(model, X1, Y1, cv=k_fold, scoring='accuracy').mean()\n",
    "    \n",
    "    names.append(name)\n",
    "    scores.append(score)\n",
    "kf_cross_val = pd.DataFrame({'Name': names, 'Score': scores})\n",
    "\n",
    "print(kf_cross_val.sort_values(['Score'],ascending=0))"
   ]
  },
  {
   "cell_type": "code",
   "execution_count": 119,
   "metadata": {},
   "outputs": [
    {
     "data": {
      "image/png": "[encoded data removed]",
      "text/plain": [
       "<Figure size 432x288 with 1 Axes>"
      ]
     },
     "metadata": {},
     "output_type": "display_data"
    }
   ],
   "source": [
    "import seaborn as sns\n",
    "kf_val = kf_cross_val.sort_values(['Score'],ascending=0)\n",
    "sns.set_style(\"whitegrid\")\n",
    "ax = sns.barplot(x = 'Name', y = 'Score', data = kf_val)\n",
    "ax.set(xlabel='Classifier', ylabel='Score')\n",
    "\n",
    "for p in ax.patches:\n",
    "    height = p.get_height()\n",
    "    ax.text(p.get_x() + p.get_width()/2, height, '{:1.4f}'.format(height), ha=\"center\") \n",
    "    \n",
    "plt.show()"
   ]
  },
  {
   "cell_type": "code",
   "execution_count": 120,
   "metadata": {},
   "outputs": [],
   "source": [
    "from sklearn.datasets import load_digits\n",
    "from sklearn.model_selection import learning_curve\n",
    "from sklearn.model_selection import ShuffleSplit\n",
    "def plot_learning_curve(estimator, title, X, y, ylim=None, cv=None,\n",
    "                        n_jobs=None, train_sizes=np.linspace(.1, 1.0, 5)):\n",
    "    plt.figure()\n",
    "    plt.title(title)\n",
    "    if ylim is not None:\n",
    "        plt.ylim(*ylim)\n",
    "    plt.xlabel(\"Training examples\")\n",
    "    plt.ylabel(\"Score\")\n",
    "    train_sizes, train_scores, test_scores = learning_curve(\n",
    "        estimator, X, y, cv=cv, n_jobs=n_jobs, train_sizes=train_sizes)\n",
    "    train_scores_mean = np.mean(train_scores, axis=1)\n",
    "    train_scores_std = np.std(train_scores, axis=1)\n",
    "    test_scores_mean = np.mean(test_scores, axis=1)\n",
    "    test_scores_std = np.std(test_scores, axis=1)\n",
    "    plt.grid()\n",
    "\n",
    "    plt.fill_between(train_sizes, train_scores_mean - train_scores_std,\n",
    "                     train_scores_mean + train_scores_std, alpha=0.1,\n",
    "                     color=\"r\")\n",
    "    plt.fill_between(train_sizes, test_scores_mean - test_scores_std,\n",
    "                     test_scores_mean + test_scores_std, alpha=0.1, color=\"g\")\n",
    "    plt.plot(train_sizes, train_scores_mean, 'o-', color=\"r\",\n",
    "             label=\"Training score\")\n",
    "    plt.plot(train_sizes, test_scores_mean, 'o-', color=\"g\",\n",
    "             label=\"Cross-validation score\")\n",
    "\n",
    "    plt.legend(loc=\"best\")\n",
    "    return plt"
   ]
  },
  {
   "cell_type": "code",
   "execution_count": 122,
   "metadata": {},
   "outputs": [
    {
     "data": {
      "image/png": "[encoded data removed]",
      "text/plain": [
       "<Figure size 432x288 with 1 Axes>"
      ]
     },
     "metadata": {},
     "output_type": "display_data"
    },
    {
     "data": {
      "image/png": "[encoded data removed]",
      "text/plain": [
       "<Figure size 432x288 with 1 Axes>"
      ]
     },
     "metadata": {},
     "output_type": "display_data"
    },
    {
     "data": {
      "image/png": "[encoded data removed]",
      "text/plain": [
       "<Figure size 432x288 with 1 Axes>"
      ]
     },
     "metadata": {},
     "output_type": "display_data"
    },
    {
     "data": {
      "image/png": "[encoded data removed]",
      "text/plain": [
       "<Figure size 432x288 with 1 Axes>"
      ]
     },
     "metadata": {},
     "output_type": "display_data"
    },
    {
     "data": {
      "image/png": "[encoded data removed]",
      "text/plain": [
       "<Figure size 432x288 with 1 Axes>"
      ]
     },
     "metadata": {},
     "output_type": "display_data"
    },
    {
     "data": {
      "image/png": "[encoded data removed]",
      "text/plain": [
       "<Figure size 432x288 with 1 Axes>"
      ]
     },
     "metadata": {},
     "output_type": "display_data"
    },
    {
     "data": {
      "image/png": "[encoded data removed]",
      "text/plain": [
       "<Figure size 432x288 with 1 Axes>"
      ]
     },
     "metadata": {},
     "output_type": "display_data"
    },
    {
     "data": {
      "image/png": "[encoded data removed]",
      "text/plain": [
       "<Figure size 432x288 with 1 Axes>"
      ]
     },
     "metadata": {},
     "output_type": "display_data"
    }
   ],
   "source": [
    "for name, model in models:\n",
    "\n",
    "    title = \"Learning Curves \"+ \"(\" + name + \")\"\n",
    "# Cross validation with 100 iterations to get smoother mean test and train\n",
    "# score curves, each time with 20% data randomly selected as a validation set.\n",
    "    cv = ShuffleSplit(n_splits=10, test_size=0.2, random_state=0)\n",
    "\n",
    "    estimator = model\n",
    "    plot_learning_curve(estimator, title, X1, Y1, ylim=(0.5, 1.01), cv=cv, n_jobs=4)"
   ]
  },
  {
   "cell_type": "code",
   "execution_count": null,
   "metadata": {},
   "outputs": [],
   "source": []
  }
 ],
 "metadata": {
  "kernelspec": {
   "display_name": "Python 3",
   "language": "python",
   "name": "python3"
  },
  "language_info": {
   "codemirror_mode": {
    "name": "ipython",
    "version": 3
   },
   "file_extension": ".py",
   "mimetype": "text/x-python",
   "name": "python",
   "nbconvert_exporter": "python",
   "pygments_lexer": "ipython3",
   "version": "3.7.0"
  }
 },
 "nbformat": 4,
 "nbformat_minor": 2
}
