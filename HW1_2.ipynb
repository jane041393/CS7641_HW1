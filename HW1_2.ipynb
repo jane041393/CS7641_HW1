{
 "cells": [
  {
   "cell_type": "code",
   "execution_count": 17,
   "metadata": {},
   "outputs": [],
   "source": [
    "import datetime\n",
    "import pandas as pd\n",
    "import numpy as np\n",
    "import operator\n",
    "import matplotlib.pyplot as plt"
   ]
  },
  {
   "cell_type": "markdown",
   "metadata": {},
   "source": [
    "## download the data here: https://2015.recsyschallenge.com/challenge.html"
   ]
  },
  {
   "cell_type": "code",
   "execution_count": 18,
   "metadata": {},
   "outputs": [],
   "source": [
    "%matplotlib inline"
   ]
  },
  {
   "cell_type": "code",
   "execution_count": 19,
   "metadata": {},
   "outputs": [],
   "source": [
    "dateparse = lambda x: pd.datetime.strptime(x, '%Y-%m-%dT%H:%M:%S.%fZ')"
   ]
  },
  {
   "cell_type": "code",
   "execution_count": 20,
   "metadata": {},
   "outputs": [],
   "source": [
    "buys_column_names = ['Session_ID','Time_stamp','Item_ID','Price','Quantity']\n",
    "df_buys = pd.read_csv('yoochoose-buys.dat', names=buys_column_names, parse_dates=['Time_stamp'], date_parser=dateparse)\n",
    "df_buys_ALL = df_buys[df_buys['Time_stamp'].between('2014-09-01','2014-09-02')]\n",
    "df_buys_ALL.to_pickle(\"./df_buys_ALL.pkl\")"
   ]
  },
  {
   "cell_type": "code",
   "execution_count": 21,
   "metadata": {},
   "outputs": [],
   "source": [
    "clicks_column_names = ['Session_ID','Time_stamp','Item_ID','Category']\n",
    "click_dtype = {'Session_ID':int, 'Time_stamp':int, 'Item_ID':int, 'Category':int}\n",
    "df_clicks = pd.read_csv('yoochoose-clicks.dat', names = clicks_column_names, parse_dates=['Time_stamp'], date_parser=dateparse)\n",
    "df_clicks_ALL = df_clicks[df_clicks['Time_stamp'].between('2014-09-01','2014-09-02')]\n",
    "df_clicks_ALL.to_pickle(\"./df_clicks_ALL.pkl\")"
   ]
  },
  {
   "cell_type": "code",
   "execution_count": 22,
   "metadata": {},
   "outputs": [],
   "source": [
    "df_buys_ALL = pd.read_pickle(\"./df_buys_ALL.pkl\")\n",
    "df_clicks_ALL = pd.read_pickle(\"./df_clicks_ALL.pkl\")"
   ]
  },
  {
   "cell_type": "code",
   "execution_count": 23,
   "metadata": {},
   "outputs": [],
   "source": [
    "df_buys_ALL = df_buys_ALL[df_buys_ALL['Time_stamp'].between('2014-09-01','2014-09-30')]\n",
    "df_clicks_ALL = df_clicks_ALL[df_clicks_ALL['Time_stamp'].between('2014-09-01','2014-09-30')]"
   ]
  },
  {
   "cell_type": "code",
   "execution_count": 24,
   "metadata": {},
   "outputs": [
    {
     "data": {
      "text/html": [
       "<div>\n",
       "<style scoped>\n",
       "    .dataframe tbody tr th:only-of-type {\n",
       "        vertical-align: middle;\n",
       "    }\n",
       "\n",
       "    .dataframe tbody tr th {\n",
       "        vertical-align: top;\n",
       "    }\n",
       "\n",
       "    .dataframe thead th {\n",
       "        text-align: right;\n",
       "    }\n",
       "</style>\n",
       "<table border=\"1\" class=\"dataframe\">\n",
       "  <thead>\n",
       "    <tr style=\"text-align: right;\">\n",
       "      <th></th>\n",
       "      <th>Session_ID</th>\n",
       "      <th>Time_stamp</th>\n",
       "      <th>Item_ID</th>\n",
       "      <th>Price</th>\n",
       "      <th>Quantity</th>\n",
       "    </tr>\n",
       "  </thead>\n",
       "  <tbody>\n",
       "    <tr>\n",
       "      <th>900729</th>\n",
       "      <td>9641594</td>\n",
       "      <td>2014-09-01 09:09:25.575</td>\n",
       "      <td>214853342</td>\n",
       "      <td>2093</td>\n",
       "      <td>2</td>\n",
       "    </tr>\n",
       "    <tr>\n",
       "      <th>900730</th>\n",
       "      <td>9641594</td>\n",
       "      <td>2014-09-01 09:09:25.596</td>\n",
       "      <td>214853340</td>\n",
       "      <td>837</td>\n",
       "      <td>2</td>\n",
       "    </tr>\n",
       "    <tr>\n",
       "      <th>900731</th>\n",
       "      <td>9641594</td>\n",
       "      <td>2014-09-01 09:09:25.614</td>\n",
       "      <td>214853420</td>\n",
       "      <td>1046</td>\n",
       "      <td>2</td>\n",
       "    </tr>\n",
       "    <tr>\n",
       "      <th>900738</th>\n",
       "      <td>9571651</td>\n",
       "      <td>2014-09-01 13:21:55.278</td>\n",
       "      <td>214676580</td>\n",
       "      <td>13509</td>\n",
       "      <td>1</td>\n",
       "    </tr>\n",
       "    <tr>\n",
       "      <th>900739</th>\n",
       "      <td>9571651</td>\n",
       "      <td>2014-09-01 13:22:14.336</td>\n",
       "      <td>214676580</td>\n",
       "      <td>13509</td>\n",
       "      <td>1</td>\n",
       "    </tr>\n",
       "    <tr>\n",
       "      <th>900759</th>\n",
       "      <td>9370132</td>\n",
       "      <td>2014-09-01 04:09:15.566</td>\n",
       "      <td>214853767</td>\n",
       "      <td>1046</td>\n",
       "      <td>1</td>\n",
       "    </tr>\n",
       "    <tr>\n",
       "      <th>900760</th>\n",
       "      <td>9370132</td>\n",
       "      <td>2014-09-01 04:09:15.790</td>\n",
       "      <td>214853767</td>\n",
       "      <td>1046</td>\n",
       "      <td>1</td>\n",
       "    </tr>\n",
       "    <tr>\n",
       "      <th>900771</th>\n",
       "      <td>9725747</td>\n",
       "      <td>2014-09-01 21:56:03.779</td>\n",
       "      <td>214853454</td>\n",
       "      <td>1884</td>\n",
       "      <td>1</td>\n",
       "    </tr>\n",
       "    <tr>\n",
       "      <th>900772</th>\n",
       "      <td>9725747</td>\n",
       "      <td>2014-09-01 21:56:03.788</td>\n",
       "      <td>214853865</td>\n",
       "      <td>418</td>\n",
       "      <td>1</td>\n",
       "    </tr>\n",
       "    <tr>\n",
       "      <th>900776</th>\n",
       "      <td>9431393</td>\n",
       "      <td>2014-09-01 13:38:48.351</td>\n",
       "      <td>214846258</td>\n",
       "      <td>941</td>\n",
       "      <td>1</td>\n",
       "    </tr>\n",
       "    <tr>\n",
       "      <th>900777</th>\n",
       "      <td>9431393</td>\n",
       "      <td>2014-09-01 13:38:48.414</td>\n",
       "      <td>214853340</td>\n",
       "      <td>837</td>\n",
       "      <td>1</td>\n",
       "    </tr>\n",
       "    <tr>\n",
       "      <th>900778</th>\n",
       "      <td>9431393</td>\n",
       "      <td>2014-09-01 13:38:48.479</td>\n",
       "      <td>214853342</td>\n",
       "      <td>2093</td>\n",
       "      <td>6</td>\n",
       "    </tr>\n",
       "    <tr>\n",
       "      <th>900779</th>\n",
       "      <td>9571632</td>\n",
       "      <td>2014-09-01 08:41:32.780</td>\n",
       "      <td>214853282</td>\n",
       "      <td>4188</td>\n",
       "      <td>1</td>\n",
       "    </tr>\n",
       "    <tr>\n",
       "      <th>900780</th>\n",
       "      <td>9571632</td>\n",
       "      <td>2014-09-01 08:41:32.828</td>\n",
       "      <td>214854022</td>\n",
       "      <td>4188</td>\n",
       "      <td>1</td>\n",
       "    </tr>\n",
       "    <tr>\n",
       "      <th>900781</th>\n",
       "      <td>9571632</td>\n",
       "      <td>2014-09-01 08:41:32.949</td>\n",
       "      <td>214851082</td>\n",
       "      <td>2093</td>\n",
       "      <td>1</td>\n",
       "    </tr>\n",
       "    <tr>\n",
       "      <th>900790</th>\n",
       "      <td>9370227</td>\n",
       "      <td>2014-09-01 08:42:25.359</td>\n",
       "      <td>214710159</td>\n",
       "      <td>3350</td>\n",
       "      <td>1</td>\n",
       "    </tr>\n",
       "    <tr>\n",
       "      <th>900793</th>\n",
       "      <td>9431411</td>\n",
       "      <td>2014-09-01 11:13:16.838</td>\n",
       "      <td>214853992</td>\n",
       "      <td>627</td>\n",
       "      <td>1</td>\n",
       "    </tr>\n",
       "    <tr>\n",
       "      <th>900794</th>\n",
       "      <td>9431411</td>\n",
       "      <td>2014-09-01 11:13:16.890</td>\n",
       "      <td>214537220</td>\n",
       "      <td>10471</td>\n",
       "      <td>1</td>\n",
       "    </tr>\n",
       "    <tr>\n",
       "      <th>900795</th>\n",
       "      <td>9431411</td>\n",
       "      <td>2014-09-01 11:13:16.891</td>\n",
       "      <td>214853865</td>\n",
       "      <td>418</td>\n",
       "      <td>1</td>\n",
       "    </tr>\n",
       "    <tr>\n",
       "      <th>900798</th>\n",
       "      <td>9641476</td>\n",
       "      <td>2014-09-01 06:52:32.538</td>\n",
       "      <td>214861282</td>\n",
       "      <td>1884</td>\n",
       "      <td>1</td>\n",
       "    </tr>\n",
       "    <tr>\n",
       "      <th>900806</th>\n",
       "      <td>9725713</td>\n",
       "      <td>2014-09-01 14:28:22.593</td>\n",
       "      <td>214677830</td>\n",
       "      <td>1465</td>\n",
       "      <td>1</td>\n",
       "    </tr>\n",
       "    <tr>\n",
       "      <th>900807</th>\n",
       "      <td>9725713</td>\n",
       "      <td>2014-09-01 14:28:22.670</td>\n",
       "      <td>214853169</td>\n",
       "      <td>1046</td>\n",
       "      <td>1</td>\n",
       "    </tr>\n",
       "    <tr>\n",
       "      <th>900808</th>\n",
       "      <td>9725713</td>\n",
       "      <td>2014-09-01 14:28:22.755</td>\n",
       "      <td>214846117</td>\n",
       "      <td>889</td>\n",
       "      <td>1</td>\n",
       "    </tr>\n",
       "    <tr>\n",
       "      <th>900809</th>\n",
       "      <td>9725713</td>\n",
       "      <td>2014-09-01 14:28:22.821</td>\n",
       "      <td>214678387</td>\n",
       "      <td>1046</td>\n",
       "      <td>1</td>\n",
       "    </tr>\n",
       "    <tr>\n",
       "      <th>900810</th>\n",
       "      <td>9725713</td>\n",
       "      <td>2014-09-01 14:28:22.999</td>\n",
       "      <td>214581611</td>\n",
       "      <td>1465</td>\n",
       "      <td>1</td>\n",
       "    </tr>\n",
       "    <tr>\n",
       "      <th>900811</th>\n",
       "      <td>9725713</td>\n",
       "      <td>2014-09-01 14:28:23.018</td>\n",
       "      <td>214853130</td>\n",
       "      <td>1674</td>\n",
       "      <td>1</td>\n",
       "    </tr>\n",
       "    <tr>\n",
       "      <th>900812</th>\n",
       "      <td>9725713</td>\n",
       "      <td>2014-09-01 14:28:23.029</td>\n",
       "      <td>214851740</td>\n",
       "      <td>1360</td>\n",
       "      <td>1</td>\n",
       "    </tr>\n",
       "    <tr>\n",
       "      <th>900813</th>\n",
       "      <td>9293637</td>\n",
       "      <td>2014-09-01 08:34:57.804</td>\n",
       "      <td>214680371</td>\n",
       "      <td>9424</td>\n",
       "      <td>1</td>\n",
       "    </tr>\n",
       "    <tr>\n",
       "      <th>900819</th>\n",
       "      <td>9431391</td>\n",
       "      <td>2014-09-01 08:59:47.854</td>\n",
       "      <td>214835747</td>\n",
       "      <td>313</td>\n",
       "      <td>1</td>\n",
       "    </tr>\n",
       "    <tr>\n",
       "      <th>900820</th>\n",
       "      <td>9431391</td>\n",
       "      <td>2014-09-01 08:59:47.980</td>\n",
       "      <td>214849460</td>\n",
       "      <td>1046</td>\n",
       "      <td>1</td>\n",
       "    </tr>\n",
       "    <tr>\n",
       "      <th>...</th>\n",
       "      <td>...</td>\n",
       "      <td>...</td>\n",
       "      <td>...</td>\n",
       "      <td>...</td>\n",
       "      <td>...</td>\n",
       "    </tr>\n",
       "    <tr>\n",
       "      <th>1150723</th>\n",
       "      <td>11539811</td>\n",
       "      <td>2014-09-24 01:01:19.186</td>\n",
       "      <td>214701787</td>\n",
       "      <td>13509</td>\n",
       "      <td>2</td>\n",
       "    </tr>\n",
       "    <tr>\n",
       "      <th>1150724</th>\n",
       "      <td>11423137</td>\n",
       "      <td>2014-09-25 08:56:53.767</td>\n",
       "      <td>214853732</td>\n",
       "      <td>1046</td>\n",
       "      <td>1</td>\n",
       "    </tr>\n",
       "    <tr>\n",
       "      <th>1150725</th>\n",
       "      <td>11423151</td>\n",
       "      <td>2014-09-27 16:54:00.897</td>\n",
       "      <td>214695225</td>\n",
       "      <td>941</td>\n",
       "      <td>2</td>\n",
       "    </tr>\n",
       "    <tr>\n",
       "      <th>1150726</th>\n",
       "      <td>11423151</td>\n",
       "      <td>2014-09-27 16:54:00.960</td>\n",
       "      <td>214845356</td>\n",
       "      <td>837</td>\n",
       "      <td>1</td>\n",
       "    </tr>\n",
       "    <tr>\n",
       "      <th>1150727</th>\n",
       "      <td>11423151</td>\n",
       "      <td>2014-09-27 16:54:01.091</td>\n",
       "      <td>214850945</td>\n",
       "      <td>784</td>\n",
       "      <td>1</td>\n",
       "    </tr>\n",
       "    <tr>\n",
       "      <th>1150728</th>\n",
       "      <td>11539734</td>\n",
       "      <td>2014-09-24 10:01:32.582</td>\n",
       "      <td>214850945</td>\n",
       "      <td>784</td>\n",
       "      <td>1</td>\n",
       "    </tr>\n",
       "    <tr>\n",
       "      <th>1150729</th>\n",
       "      <td>11539734</td>\n",
       "      <td>2014-09-24 10:01:32.590</td>\n",
       "      <td>214846014</td>\n",
       "      <td>784</td>\n",
       "      <td>1</td>\n",
       "    </tr>\n",
       "    <tr>\n",
       "      <th>1150730</th>\n",
       "      <td>11539734</td>\n",
       "      <td>2014-09-24 10:01:32.595</td>\n",
       "      <td>214774674</td>\n",
       "      <td>1674</td>\n",
       "      <td>1</td>\n",
       "    </tr>\n",
       "    <tr>\n",
       "      <th>1150731</th>\n",
       "      <td>11399517</td>\n",
       "      <td>2014-09-26 10:33:00.745</td>\n",
       "      <td>214849003</td>\n",
       "      <td>2512</td>\n",
       "      <td>1</td>\n",
       "    </tr>\n",
       "    <tr>\n",
       "      <th>1150732</th>\n",
       "      <td>11399517</td>\n",
       "      <td>2014-09-26 10:33:00.760</td>\n",
       "      <td>214854787</td>\n",
       "      <td>523</td>\n",
       "      <td>2</td>\n",
       "    </tr>\n",
       "    <tr>\n",
       "      <th>1150733</th>\n",
       "      <td>11399517</td>\n",
       "      <td>2014-09-26 10:33:00.770</td>\n",
       "      <td>214848845</td>\n",
       "      <td>2303</td>\n",
       "      <td>1</td>\n",
       "    </tr>\n",
       "    <tr>\n",
       "      <th>1150734</th>\n",
       "      <td>11299794</td>\n",
       "      <td>2014-09-24 19:25:36.882</td>\n",
       "      <td>214861498</td>\n",
       "      <td>3664</td>\n",
       "      <td>1</td>\n",
       "    </tr>\n",
       "    <tr>\n",
       "      <th>1150735</th>\n",
       "      <td>11299794</td>\n",
       "      <td>2014-09-24 19:25:37.347</td>\n",
       "      <td>214861498</td>\n",
       "      <td>3664</td>\n",
       "      <td>1</td>\n",
       "    </tr>\n",
       "    <tr>\n",
       "      <th>1150736</th>\n",
       "      <td>11299793</td>\n",
       "      <td>2014-09-25 07:18:35.017</td>\n",
       "      <td>214854804</td>\n",
       "      <td>1570</td>\n",
       "      <td>1</td>\n",
       "    </tr>\n",
       "    <tr>\n",
       "      <th>1150737</th>\n",
       "      <td>11299793</td>\n",
       "      <td>2014-09-25 07:18:35.082</td>\n",
       "      <td>214834933</td>\n",
       "      <td>2093</td>\n",
       "      <td>1</td>\n",
       "    </tr>\n",
       "    <tr>\n",
       "      <th>1150738</th>\n",
       "      <td>11523909</td>\n",
       "      <td>2014-09-24 16:50:03.023</td>\n",
       "      <td>214853105</td>\n",
       "      <td>1046</td>\n",
       "      <td>1</td>\n",
       "    </tr>\n",
       "    <tr>\n",
       "      <th>1150739</th>\n",
       "      <td>11399497</td>\n",
       "      <td>2014-09-24 19:03:19.611</td>\n",
       "      <td>214510445</td>\n",
       "      <td>8377</td>\n",
       "      <td>1</td>\n",
       "    </tr>\n",
       "    <tr>\n",
       "      <th>1150740</th>\n",
       "      <td>11368652</td>\n",
       "      <td>2014-09-24 12:45:19.052</td>\n",
       "      <td>214860155</td>\n",
       "      <td>732</td>\n",
       "      <td>1</td>\n",
       "    </tr>\n",
       "    <tr>\n",
       "      <th>1150741</th>\n",
       "      <td>11493056</td>\n",
       "      <td>2014-09-27 12:39:31.238</td>\n",
       "      <td>214510445</td>\n",
       "      <td>8377</td>\n",
       "      <td>1</td>\n",
       "    </tr>\n",
       "    <tr>\n",
       "      <th>1150742</th>\n",
       "      <td>11523919</td>\n",
       "      <td>2014-09-24 14:35:27.082</td>\n",
       "      <td>214704180</td>\n",
       "      <td>8377</td>\n",
       "      <td>1</td>\n",
       "    </tr>\n",
       "    <tr>\n",
       "      <th>1150743</th>\n",
       "      <td>11523919</td>\n",
       "      <td>2014-09-24 14:35:27.092</td>\n",
       "      <td>214704182</td>\n",
       "      <td>9424</td>\n",
       "      <td>1</td>\n",
       "    </tr>\n",
       "    <tr>\n",
       "      <th>1150744</th>\n",
       "      <td>11330173</td>\n",
       "      <td>2014-09-24 07:45:04.886</td>\n",
       "      <td>214857204</td>\n",
       "      <td>9424</td>\n",
       "      <td>3</td>\n",
       "    </tr>\n",
       "    <tr>\n",
       "      <th>1150745</th>\n",
       "      <td>11330173</td>\n",
       "      <td>2014-09-24 07:45:04.895</td>\n",
       "      <td>214857204</td>\n",
       "      <td>12462</td>\n",
       "      <td>1</td>\n",
       "    </tr>\n",
       "    <tr>\n",
       "      <th>1150746</th>\n",
       "      <td>11330173</td>\n",
       "      <td>2014-09-24 07:45:04.902</td>\n",
       "      <td>214835000</td>\n",
       "      <td>7329</td>\n",
       "      <td>3</td>\n",
       "    </tr>\n",
       "    <tr>\n",
       "      <th>1150747</th>\n",
       "      <td>11330173</td>\n",
       "      <td>2014-09-24 07:45:04.953</td>\n",
       "      <td>214835000</td>\n",
       "      <td>9424</td>\n",
       "      <td>1</td>\n",
       "    </tr>\n",
       "    <tr>\n",
       "      <th>1150748</th>\n",
       "      <td>11368701</td>\n",
       "      <td>2014-09-26 07:52:51.357</td>\n",
       "      <td>214849809</td>\n",
       "      <td>554</td>\n",
       "      <td>2</td>\n",
       "    </tr>\n",
       "    <tr>\n",
       "      <th>1150749</th>\n",
       "      <td>11368691</td>\n",
       "      <td>2014-09-25 09:37:44.206</td>\n",
       "      <td>214700002</td>\n",
       "      <td>6806</td>\n",
       "      <td>5</td>\n",
       "    </tr>\n",
       "    <tr>\n",
       "      <th>1150750</th>\n",
       "      <td>11523941</td>\n",
       "      <td>2014-09-25 06:14:47.965</td>\n",
       "      <td>214578011</td>\n",
       "      <td>14556</td>\n",
       "      <td>1</td>\n",
       "    </tr>\n",
       "    <tr>\n",
       "      <th>1150751</th>\n",
       "      <td>11423202</td>\n",
       "      <td>2014-09-26 18:49:34.024</td>\n",
       "      <td>214849164</td>\n",
       "      <td>1046</td>\n",
       "      <td>1</td>\n",
       "    </tr>\n",
       "    <tr>\n",
       "      <th>1150752</th>\n",
       "      <td>11423202</td>\n",
       "      <td>2014-09-26 18:49:34.026</td>\n",
       "      <td>214560500</td>\n",
       "      <td>5549</td>\n",
       "      <td>1</td>\n",
       "    </tr>\n",
       "  </tbody>\n",
       "</table>\n",
       "<p>203070 rows × 5 columns</p>\n",
       "</div>"
      ],
      "text/plain": [
       "         Session_ID              Time_stamp    Item_ID  Price  Quantity\n",
       "900729      9641594 2014-09-01 09:09:25.575  214853342   2093         2\n",
       "900730      9641594 2014-09-01 09:09:25.596  214853340    837         2\n",
       "900731      9641594 2014-09-01 09:09:25.614  214853420   1046         2\n",
       "900738      9571651 2014-09-01 13:21:55.278  214676580  13509         1\n",
       "900739      9571651 2014-09-01 13:22:14.336  214676580  13509         1\n",
       "900759      9370132 2014-09-01 04:09:15.566  214853767   1046         1\n",
       "900760      9370132 2014-09-01 04:09:15.790  214853767   1046         1\n",
       "900771      9725747 2014-09-01 21:56:03.779  214853454   1884         1\n",
       "900772      9725747 2014-09-01 21:56:03.788  214853865    418         1\n",
       "900776      9431393 2014-09-01 13:38:48.351  214846258    941         1\n",
       "900777      9431393 2014-09-01 13:38:48.414  214853340    837         1\n",
       "900778      9431393 2014-09-01 13:38:48.479  214853342   2093         6\n",
       "900779      9571632 2014-09-01 08:41:32.780  214853282   4188         1\n",
       "900780      9571632 2014-09-01 08:41:32.828  214854022   4188         1\n",
       "900781      9571632 2014-09-01 08:41:32.949  214851082   2093         1\n",
       "900790      9370227 2014-09-01 08:42:25.359  214710159   3350         1\n",
       "900793      9431411 2014-09-01 11:13:16.838  214853992    627         1\n",
       "900794      9431411 2014-09-01 11:13:16.890  214537220  10471         1\n",
       "900795      9431411 2014-09-01 11:13:16.891  214853865    418         1\n",
       "900798      9641476 2014-09-01 06:52:32.538  214861282   1884         1\n",
       "900806      9725713 2014-09-01 14:28:22.593  214677830   1465         1\n",
       "900807      9725713 2014-09-01 14:28:22.670  214853169   1046         1\n",
       "900808      9725713 2014-09-01 14:28:22.755  214846117    889         1\n",
       "900809      9725713 2014-09-01 14:28:22.821  214678387   1046         1\n",
       "900810      9725713 2014-09-01 14:28:22.999  214581611   1465         1\n",
       "900811      9725713 2014-09-01 14:28:23.018  214853130   1674         1\n",
       "900812      9725713 2014-09-01 14:28:23.029  214851740   1360         1\n",
       "900813      9293637 2014-09-01 08:34:57.804  214680371   9424         1\n",
       "900819      9431391 2014-09-01 08:59:47.854  214835747    313         1\n",
       "900820      9431391 2014-09-01 08:59:47.980  214849460   1046         1\n",
       "...             ...                     ...        ...    ...       ...\n",
       "1150723    11539811 2014-09-24 01:01:19.186  214701787  13509         2\n",
       "1150724    11423137 2014-09-25 08:56:53.767  214853732   1046         1\n",
       "1150725    11423151 2014-09-27 16:54:00.897  214695225    941         2\n",
       "1150726    11423151 2014-09-27 16:54:00.960  214845356    837         1\n",
       "1150727    11423151 2014-09-27 16:54:01.091  214850945    784         1\n",
       "1150728    11539734 2014-09-24 10:01:32.582  214850945    784         1\n",
       "1150729    11539734 2014-09-24 10:01:32.590  214846014    784         1\n",
       "1150730    11539734 2014-09-24 10:01:32.595  214774674   1674         1\n",
       "1150731    11399517 2014-09-26 10:33:00.745  214849003   2512         1\n",
       "1150732    11399517 2014-09-26 10:33:00.760  214854787    523         2\n",
       "1150733    11399517 2014-09-26 10:33:00.770  214848845   2303         1\n",
       "1150734    11299794 2014-09-24 19:25:36.882  214861498   3664         1\n",
       "1150735    11299794 2014-09-24 19:25:37.347  214861498   3664         1\n",
       "1150736    11299793 2014-09-25 07:18:35.017  214854804   1570         1\n",
       "1150737    11299793 2014-09-25 07:18:35.082  214834933   2093         1\n",
       "1150738    11523909 2014-09-24 16:50:03.023  214853105   1046         1\n",
       "1150739    11399497 2014-09-24 19:03:19.611  214510445   8377         1\n",
       "1150740    11368652 2014-09-24 12:45:19.052  214860155    732         1\n",
       "1150741    11493056 2014-09-27 12:39:31.238  214510445   8377         1\n",
       "1150742    11523919 2014-09-24 14:35:27.082  214704180   8377         1\n",
       "1150743    11523919 2014-09-24 14:35:27.092  214704182   9424         1\n",
       "1150744    11330173 2014-09-24 07:45:04.886  214857204   9424         3\n",
       "1150745    11330173 2014-09-24 07:45:04.895  214857204  12462         1\n",
       "1150746    11330173 2014-09-24 07:45:04.902  214835000   7329         3\n",
       "1150747    11330173 2014-09-24 07:45:04.953  214835000   9424         1\n",
       "1150748    11368701 2014-09-26 07:52:51.357  214849809    554         2\n",
       "1150749    11368691 2014-09-25 09:37:44.206  214700002   6806         5\n",
       "1150750    11523941 2014-09-25 06:14:47.965  214578011  14556         1\n",
       "1150751    11423202 2014-09-26 18:49:34.024  214849164   1046         1\n",
       "1150752    11423202 2014-09-26 18:49:34.026  214560500   5549         1\n",
       "\n",
       "[203070 rows x 5 columns]"
      ]
     },
     "execution_count": 24,
     "metadata": {},
     "output_type": "execute_result"
    }
   ],
   "source": [
    "df_buys_ALL"
   ]
  },
  {
   "cell_type": "code",
   "execution_count": 25,
   "metadata": {},
   "outputs": [],
   "source": [
    "indexes = ['Session_ID', 'Item_ID']\n",
    "df = df_clicks_ALL.merge(df_buys_ALL, how='left', on = indexes)"
   ]
  },
  {
   "cell_type": "code",
   "execution_count": 26,
   "metadata": {},
   "outputs": [],
   "source": [
    "df_buys_ALL['Buyer'] = df['Item_ID'].map(lambda x:x is not None)"
   ]
  },
  {
   "cell_type": "code",
   "execution_count": 27,
   "metadata": {},
   "outputs": [],
   "source": [
    "df['Time_stamp_y'] = df['Time_stamp_y'].fillna(df['Time_stamp_x'])"
   ]
  },
  {
   "cell_type": "code",
   "execution_count": 28,
   "metadata": {},
   "outputs": [],
   "source": [
    "df['Buyer'] = df['Quantity'] > 0"
   ]
  },
  {
   "cell_type": "code",
   "execution_count": 29,
   "metadata": {},
   "outputs": [],
   "source": [
    "df.columns = ['Session_ID','Clicked_Time','Item_ID','Category','Buy_Time','Price','Quantity', 'Buyer']\n",
    "df['Quantity'] = df['Quantity'].fillna(0)\n",
    "df['Price'] = df['Price'].fillna(0)\n",
    "df['Buy_Time'] = df['Buy_Time'].fillna(df['Clicked_Time'])"
   ]
  },
  {
   "cell_type": "code",
   "execution_count": 30,
   "metadata": {},
   "outputs": [],
   "source": [
    "df['Clicked_Weekday'] = pd.Series(df['Clicked_Time'].apply(lambda x: x.weekday()))\n",
    "df['Clicked_HourOfDay'] = pd.Series(df['Clicked_Time'].apply(lambda x: x.hour))\n",
    "df['Clicked_Day'] = pd.Series(df['Clicked_Time'].apply(lambda x: x.strftime('%m/%d')))\n",
    "df['Buy_Day'] = pd.Series(df['Buy_Time'].apply(lambda x: x.strftime('%m/%d')))"
   ]
  },
  {
   "cell_type": "code",
   "execution_count": 31,
   "metadata": {},
   "outputs": [],
   "source": [
    "Time_Delta = abs(df['Buy_Time'] - df['Clicked_Time']).apply(lambda x: x / np.timedelta64(1, 'm'))\n",
    "df['Time_Gap'] = pd.Series(Time_Delta)\n",
    "df['Sales'] = pd.Series((df['Price'] * df['Quantity']).apply(lambda x: x))"
   ]
  },
  {
   "cell_type": "code",
   "execution_count": 32,
   "metadata": {},
   "outputs": [
    {
     "data": {
      "text/plain": [
       "Clicked_Day\n",
       "09/01    252.302944\n",
       "09/02     52.909934\n",
       "09/03     28.286727\n",
       "09/04    250.073380\n",
       "09/05    231.825436\n",
       "Name: Sales, dtype: float64"
      ]
     },
     "execution_count": 32,
     "metadata": {},
     "output_type": "execute_result"
    }
   ],
   "source": [
    "df_buyrate = df.groupby('Clicked_Day')['Sales'].mean()\n",
    "df_buyrate.head()"
   ]
  },
  {
   "cell_type": "code",
   "execution_count": 33,
   "metadata": {},
   "outputs": [
    {
     "data": {
      "text/plain": [
       "Text(0.5, 0.98, 'Total Sales (USD)')"
      ]
     },
     "execution_count": 33,
     "metadata": {},
     "output_type": "execute_result"
    },
    {
     "data": {
      "image/png": "[encoded data removed]",
      "text/plain": [
       "<Figure size 360x144 with 1 Axes>"
      ]
     },
     "metadata": {
      "needs_background": "light"
     },
     "output_type": "display_data"
    }
   ],
   "source": [
    "df_buyrate = df.groupby('Clicked_Day')['Sales'].mean()\n",
    "fig = df_buyrate.sort_index().plot(figsize=(5,2), grid=True, linewidth=1).get_figure()\n",
    "fig.suptitle('Total Sales (USD)')"
   ]
  },
  {
   "cell_type": "code",
   "execution_count": 34,
   "metadata": {},
   "outputs": [
    {
     "data": {
      "image/png": "[encoded data removed]",
      "text/plain": [
       "<Figure size 720x288 with 2 Axes>"
      ]
     },
     "metadata": {
      "needs_background": "light"
     },
     "output_type": "display_data"
    }
   ],
   "source": [
    "fig, axs = plt.subplots(1, 2, figsize=(10,4))\n",
    "df_buy_hour = df.groupby('Clicked_HourOfDay')['Sales'].mean()\n",
    "df_buy_hour.sort_index().plot(ax=axs[0], grid=True, linewidth=2).get_figure()\n",
    "axs[0].set_ylabel('Total Salse (USD)')\n",
    "axs[0].set_xlabel('Buy Hours of Day')\n",
    "\n",
    "WEEKDAY_TO_NAME = {0: 'Mon', 1: 'Tue', 2: 'Wed', 3: 'Thu', \n",
    "                   4: 'Fri', 5: 'Sat', 6: 'Sun',}\n",
    "\n",
    "df_buy_day = df.groupby('Clicked_Weekday')['Sales'].mean()\n",
    "df_buy_day = df_buy_day.sort_index().reset_index()\n",
    "df_buy_day['Clicked_Weekday'] = df_buy_day['Clicked_Weekday'].map(lambda n: WEEKDAY_TO_NAME[n])\n",
    "df_buy_day = df_buy_day.set_index('Clicked_Weekday')\n",
    "df_buy_day.plot(ax=axs[1], kind='bar', legend=False, grid=True, linewidth=2, sharey=True).get_figure()\n",
    "fig.savefig(\"df_click_on_hours_and_weekday.pdf\")"
   ]
  },
  {
   "cell_type": "code",
   "execution_count": 35,
   "metadata": {},
   "outputs": [
    {
     "data": {
      "text/html": [
       "<div>\n",
       "<style scoped>\n",
       "    .dataframe tbody tr th:only-of-type {\n",
       "        vertical-align: middle;\n",
       "    }\n",
       "\n",
       "    .dataframe tbody tr th {\n",
       "        vertical-align: top;\n",
       "    }\n",
       "\n",
       "    .dataframe thead th {\n",
       "        text-align: right;\n",
       "    }\n",
       "</style>\n",
       "<table border=\"1\" class=\"dataframe\">\n",
       "  <thead>\n",
       "    <tr style=\"text-align: right;\">\n",
       "      <th></th>\n",
       "      <th>Session_ID</th>\n",
       "      <th>Time_stamp</th>\n",
       "      <th>Item_ID</th>\n",
       "      <th>Price</th>\n",
       "      <th>Quantity</th>\n",
       "      <th>Buyer</th>\n",
       "      <th>Buy_Weekday</th>\n",
       "      <th>Buy_HourOfDay</th>\n",
       "      <th>Buy_Day</th>\n",
       "      <th>Sales</th>\n",
       "    </tr>\n",
       "  </thead>\n",
       "  <tbody>\n",
       "    <tr>\n",
       "      <th>900729</th>\n",
       "      <td>9641594</td>\n",
       "      <td>2014-09-01 09:09:25.575</td>\n",
       "      <td>214853342</td>\n",
       "      <td>2093</td>\n",
       "      <td>2</td>\n",
       "      <td>True</td>\n",
       "      <td>0</td>\n",
       "      <td>9</td>\n",
       "      <td>09/01</td>\n",
       "      <td>4186</td>\n",
       "    </tr>\n",
       "    <tr>\n",
       "      <th>900730</th>\n",
       "      <td>9641594</td>\n",
       "      <td>2014-09-01 09:09:25.596</td>\n",
       "      <td>214853340</td>\n",
       "      <td>837</td>\n",
       "      <td>2</td>\n",
       "      <td>True</td>\n",
       "      <td>0</td>\n",
       "      <td>9</td>\n",
       "      <td>09/01</td>\n",
       "      <td>1674</td>\n",
       "    </tr>\n",
       "    <tr>\n",
       "      <th>900731</th>\n",
       "      <td>9641594</td>\n",
       "      <td>2014-09-01 09:09:25.614</td>\n",
       "      <td>214853420</td>\n",
       "      <td>1046</td>\n",
       "      <td>2</td>\n",
       "      <td>True</td>\n",
       "      <td>0</td>\n",
       "      <td>9</td>\n",
       "      <td>09/01</td>\n",
       "      <td>2092</td>\n",
       "    </tr>\n",
       "    <tr>\n",
       "      <th>900738</th>\n",
       "      <td>9571651</td>\n",
       "      <td>2014-09-01 13:21:55.278</td>\n",
       "      <td>214676580</td>\n",
       "      <td>13509</td>\n",
       "      <td>1</td>\n",
       "      <td>True</td>\n",
       "      <td>0</td>\n",
       "      <td>13</td>\n",
       "      <td>09/01</td>\n",
       "      <td>13509</td>\n",
       "    </tr>\n",
       "    <tr>\n",
       "      <th>900739</th>\n",
       "      <td>9571651</td>\n",
       "      <td>2014-09-01 13:22:14.336</td>\n",
       "      <td>214676580</td>\n",
       "      <td>13509</td>\n",
       "      <td>1</td>\n",
       "      <td>True</td>\n",
       "      <td>0</td>\n",
       "      <td>13</td>\n",
       "      <td>09/01</td>\n",
       "      <td>13509</td>\n",
       "    </tr>\n",
       "  </tbody>\n",
       "</table>\n",
       "</div>"
      ],
      "text/plain": [
       "        Session_ID              Time_stamp    Item_ID  Price  Quantity  Buyer  \\\n",
       "900729     9641594 2014-09-01 09:09:25.575  214853342   2093         2   True   \n",
       "900730     9641594 2014-09-01 09:09:25.596  214853340    837         2   True   \n",
       "900731     9641594 2014-09-01 09:09:25.614  214853420   1046         2   True   \n",
       "900738     9571651 2014-09-01 13:21:55.278  214676580  13509         1   True   \n",
       "900739     9571651 2014-09-01 13:22:14.336  214676580  13509         1   True   \n",
       "\n",
       "        Buy_Weekday  Buy_HourOfDay Buy_Day  Sales  \n",
       "900729            0              9   09/01   4186  \n",
       "900730            0              9   09/01   1674  \n",
       "900731            0              9   09/01   2092  \n",
       "900738            0             13   09/01  13509  \n",
       "900739            0             13   09/01  13509  "
      ]
     },
     "execution_count": 35,
     "metadata": {},
     "output_type": "execute_result"
    }
   ],
   "source": [
    "df_buys_ALL['Buy_Weekday'] = pd.Series(df_buys_ALL['Time_stamp'].apply(lambda x: x.weekday()))\n",
    "df_buys_ALL['Buy_HourOfDay'] = pd.Series(df_buys_ALL['Time_stamp'].apply(lambda x: x.hour))\n",
    "df_buys_ALL['Buy_Day'] = pd.Series(df_buys_ALL['Time_stamp'].apply(lambda x: x.strftime('%m/%d')))\n",
    "df_buys_ALL['Sales'] = pd.Series((df_buys_ALL['Price'] * df_buys_ALL['Quantity']).apply(lambda x: x))\n",
    "df_buys_ALL.head()"
   ]
  },
  {
   "cell_type": "code",
   "execution_count": 36,
   "metadata": {},
   "outputs": [
    {
     "data": {
      "text/plain": [
       "Text(0.5, 0.98, 'Average Sales (USD)')"
      ]
     },
     "execution_count": 36,
     "metadata": {},
     "output_type": "execute_result"
    },
    {
     "data": {
      "image/png": "[encoded data removed]",
      "text/plain": [
       "<Figure size 360x144 with 1 Axes>"
      ]
     },
     "metadata": {
      "needs_background": "light"
     },
     "output_type": "display_data"
    }
   ],
   "source": [
    "df_buyrate = df_buys_ALL.groupby('Buy_Day')['Price'].mean()\n",
    "fig = df_buyrate.sort_index().plot(figsize=(5,2), grid=True, linewidth=1).get_figure()\n",
    "fig.suptitle('Average Sales (USD)')"
   ]
  },
  {
   "cell_type": "code",
   "execution_count": 37,
   "metadata": {},
   "outputs": [
    {
     "data": {
      "text/plain": [
       "Text(0.5, 0.98, 'Average Sales (USD)')"
      ]
     },
     "execution_count": 37,
     "metadata": {},
     "output_type": "execute_result"
    },
    {
     "data": {
      "image/png": "[encoded data removed]",
      "text/plain": [
       "<Figure size 360x144 with 1 Axes>"
      ]
     },
     "metadata": {
      "needs_background": "light"
     },
     "output_type": "display_data"
    }
   ],
   "source": [
    "df_buyrate = df_buys_ALL.groupby('Buy_Day')['Sales'].mean()\n",
    "fig = df_buyrate.sort_index().plot(figsize=(5,2), grid=True, linewidth=1).get_figure()\n",
    "fig.suptitle('Average Sales (USD)')"
   ]
  },
  {
   "cell_type": "code",
   "execution_count": 38,
   "metadata": {},
   "outputs": [
    {
     "data": {
      "image/png": "[encoded data removed]",
      "text/plain": [
       "<Figure size 720x288 with 2 Axes>"
      ]
     },
     "metadata": {
      "needs_background": "light"
     },
     "output_type": "display_data"
    }
   ],
   "source": [
    "fig, axs = plt.subplots(1, 2, figsize=(10,4))\n",
    "df_buy_hour = df_buys_ALL.groupby('Buy_HourOfDay')['Sales'].mean()\n",
    "df_buy_hour.sort_index().plot(ax=axs[0], grid=True, linewidth=2).get_figure()\n",
    "axs[0].set_ylabel('Total Salse (USD)')\n",
    "axs[0].set_xlabel('Buy Hours of Day')\n",
    "\n",
    "WEEKDAY_TO_NAME = {0: 'Mon', 1: 'Tue', 2: 'Wed', 3: 'Thu', \n",
    "                   4: 'Fri', 5: 'Sat', 6: 'Sun',}\n",
    "\n",
    "df_buy_day = df_buys_ALL.groupby('Buy_Weekday')['Sales'].mean()\n",
    "df_buy_day = df_buy_day.sort_index().reset_index()\n",
    "df_buy_day['Buy_Weekday'] = df_buy_day['Buy_Weekday'].map(lambda n: WEEKDAY_TO_NAME[n])\n",
    "df_buy_day = df_buy_day.set_index('Buy_Weekday')\n",
    "df_buy_day.plot(ax=axs[1], kind='bar', legend=False, grid=True, linewidth=2, sharey=True).get_figure()\n",
    "fig.savefig(\"df_sales_on_hours_and_weekday.pdf\")"
   ]
  },
  {
   "cell_type": "code",
   "execution_count": 39,
   "metadata": {},
   "outputs": [],
   "source": [
    "from sklearn.metrics import *\n",
    "from sklearn.model_selection import cross_val_score, KFold, cross_val_predict"
   ]
  },
  {
   "cell_type": "code",
   "execution_count": 40,
   "metadata": {},
   "outputs": [],
   "source": [
    "def classification_metrics(Y_pred, Y_true):\n",
    "    #NOTE: It is important to provide the output in the same order\n",
    "    return (accuracy_score(Y_true,Y_pred),\n",
    "            roc_auc_score(Y_true,Y_pred),\n",
    "            precision_score(Y_true,Y_pred),\n",
    "            recall_score(Y_true,Y_pred),\n",
    "            f1_score(Y_true,Y_pred))"
   ]
  },
  {
   "cell_type": "code",
   "execution_count": 41,
   "metadata": {},
   "outputs": [],
   "source": [
    "def plot_PR(Y_pred,Y_test):\n",
    "    average_precision = average_precision_score(Y_test, Y_pred)\n",
    "    precision, recall, _ = precision_recall_curve(Y_test, Y_pred)\n",
    "    plt.step(recall, precision, color='b', alpha=0.2,where='post')\n",
    "    plt.fill_between(recall, precision, step='post', alpha=0.2,color='b')\n",
    "\n",
    "    plt.xlabel('Recall')\n",
    "    plt.ylabel('Precision')\n",
    "    plt.ylim([0.0, 1.05])\n",
    "    plt.xlim([0.0, 1.0])\n",
    "    plt.title('2-class Precision-Recall curve: AP={0:0.2f}'.format(average_precision))"
   ]
  },
  {
   "cell_type": "code",
   "execution_count": 42,
   "metadata": {},
   "outputs": [],
   "source": [
    "def display_metrics(classifireName, Y_pred, Y_true):\n",
    "    print(\"______________________________________________\")\n",
    "    print(\"Classifier: \"+classifireName)\n",
    "    acc, auc_, precision, recall, f1score = classification_metrics(Y_pred,Y_true)\n",
    "    print(\"Accuracy: \"+str(acc))\n",
    "    print(\"ROC AUC: \"+str(auc_))\n",
    "    print(\"Precision: \"+str(precision))\n",
    "    print(\"Recall: \"+str(recall))\n",
    "    print(\"F1-score: \"+str(f1score))\n",
    "    print(\"______________________________________________\")\n",
    "    print(\"\")"
   ]
  },
  {
   "cell_type": "code",
   "execution_count": 43,
   "metadata": {},
   "outputs": [],
   "source": [
    "def plot_ROC(Y_pred, Y_test):\n",
    "    # Compute ROC curve and ROC area for each class\n",
    "    fpr = dict()\n",
    "    tpr = dict()\n",
    "    roc_auc = dict()\n",
    "    # for i in range(n_classes):\n",
    "    fpr, tpr, _ = roc_curve(Y_test, Y_pred)\n",
    "    roc_auc = auc(fpr, tpr)\n",
    "    plt.figure()\n",
    "    lw = 3 #Line Width\n",
    "    plt.plot(fpr, tpr, color='darkorange',\n",
    "             lw=lw, label='ROC curve (area = %0.2f)' % roc_auc)\n",
    "    plt.plot([0, 1], [0, 1], color='navy', lw=lw, linestyle='--')\n",
    "    plt.xlim([0.0, 1.0])\n",
    "    plt.ylim([0.0, 1.05])\n",
    "    plt.xlabel('False Positive Rate')\n",
    "    plt.ylabel('True Positive Rate')\n",
    "    plt.title('ROC Curve of user become a buyer')\n",
    "    plt.legend(loc=\"lower right\")\n",
    "    plt.show()"
   ]
  },
  {
   "cell_type": "code",
   "execution_count": 99,
   "metadata": {},
   "outputs": [],
   "source": [
    "import numpy as np\n",
    "import itertools\n",
    "from sklearn.metrics import confusion_matrix\n",
    "\n",
    "class_names = ['Positive', 'Negative']\n",
    "\n",
    "\n",
    "def plot_confusion_matrix(cm, classes,\n",
    "                          normalize=False,\n",
    "                          title='Confusion matrix',\n",
    "                          cmap=plt.cm.Reds):\n",
    "    \"\"\"\n",
    "    This function prints and plots the confusion matrix.\n",
    "    Normalization can be applied by setting normalize=True.\n",
    "    \"\"\"\n",
    "    if normalize:\n",
    "        cm = cm.astype('float') / cm.sum(axis=1)[:, np.newaxis]\n",
    "\n",
    "    plt.imshow(cm, interpolation='nearest', cmap=cmap)\n",
    "    plt.title(title)\n",
    "    plt.colorbar()\n",
    "    tick_marks = np.arange(len(classes))\n",
    "    plt.xticks(tick_marks, classes, rotation=45)\n",
    "    plt.yticks(tick_marks, classes)\n",
    "\n",
    "    fmt = '.2f' if normalize else 'd'\n",
    "    thresh = cm.max() / 2.\n",
    "    for i, j in itertools.product(range(cm.shape[0]), range(cm.shape[1])):\n",
    "        plt.text(j, i, format(cm[i, j], fmt),\n",
    "                 horizontalalignment=\"center\",\n",
    "                 color=\"white\" if cm[i, j] > thresh else \"black\")\n",
    "\n",
    "    plt.tight_layout()\n",
    "    plt.ylabel('True label')\n",
    "    plt.xlabel('Predicted label')"
   ]
  },
  {
   "cell_type": "code",
   "execution_count": 100,
   "metadata": {},
   "outputs": [],
   "source": [
    "RANDOM_STATE = 903434960"
   ]
  },
  {
   "cell_type": "code",
   "execution_count": 101,
   "metadata": {},
   "outputs": [],
   "source": [
    "X1 = df.drop(['Item_ID','Clicked_Time',\\\n",
    "            'Category','Buy_Time','Buyer',\\\n",
    "            'Clicked_Day','Buy_Day'],axis=1)\n",
    "Y1 = df['Buyer'].values"
   ]
  },
  {
   "cell_type": "code",
   "execution_count": 102,
   "metadata": {},
   "outputs": [],
   "source": [
    "from sklearn.model_selection import train_test_split\n",
    "\n",
    "X1_train, X1_test, Y1_train, Y1_test = train_test_split(X1, Y1, test_size=0.2, random_state=RANDOM_STATE)"
   ]
  },
  {
   "cell_type": "code",
   "execution_count": 103,
   "metadata": {},
   "outputs": [],
   "source": [
    "from sklearn.linear_model import LogisticRegression\n",
    "from sklearn.metrics import accuracy_score"
   ]
  },
  {
   "cell_type": "code",
   "execution_count": 104,
   "metadata": {
    "scrolled": false
   },
   "outputs": [
    {
     "name": "stderr",
     "output_type": "stream",
     "text": [
      "/usr/local/lib/python3.7/site-packages/sklearn/linear_model/logistic.py:433: FutureWarning: Default solver will be changed to 'lbfgs' in 0.22. Specify a solver to silence this warning.\n",
      "  FutureWarning)\n",
      "/usr/local/lib/python3.7/site-packages/sklearn/linear_model/logistic.py:433: FutureWarning: Default solver will be changed to 'lbfgs' in 0.22. Specify a solver to silence this warning.\n",
      "  FutureWarning)\n",
      "/usr/local/lib/python3.7/site-packages/sklearn/linear_model/logistic.py:433: FutureWarning: Default solver will be changed to 'lbfgs' in 0.22. Specify a solver to silence this warning.\n",
      "  FutureWarning)\n",
      "/usr/local/lib/python3.7/site-packages/sklearn/linear_model/logistic.py:433: FutureWarning: Default solver will be changed to 'lbfgs' in 0.22. Specify a solver to silence this warning.\n",
      "  FutureWarning)\n",
      "/usr/local/lib/python3.7/site-packages/sklearn/linear_model/logistic.py:433: FutureWarning: Default solver will be changed to 'lbfgs' in 0.22. Specify a solver to silence this warning.\n",
      "  FutureWarning)\n",
      "/usr/local/lib/python3.7/site-packages/sklearn/linear_model/logistic.py:433: FutureWarning: Default solver will be changed to 'lbfgs' in 0.22. Specify a solver to silence this warning.\n",
      "  FutureWarning)\n",
      "/usr/local/lib/python3.7/site-packages/sklearn/linear_model/logistic.py:433: FutureWarning: Default solver will be changed to 'lbfgs' in 0.22. Specify a solver to silence this warning.\n",
      "  FutureWarning)\n",
      "/usr/local/lib/python3.7/site-packages/sklearn/linear_model/logistic.py:433: FutureWarning: Default solver will be changed to 'lbfgs' in 0.22. Specify a solver to silence this warning.\n",
      "  FutureWarning)\n",
      "/usr/local/lib/python3.7/site-packages/sklearn/linear_model/logistic.py:433: FutureWarning: Default solver will be changed to 'lbfgs' in 0.22. Specify a solver to silence this warning.\n",
      "  FutureWarning)\n",
      "/usr/local/lib/python3.7/site-packages/sklearn/linear_model/logistic.py:433: FutureWarning: Default solver will be changed to 'lbfgs' in 0.22. Specify a solver to silence this warning.\n",
      "  FutureWarning)\n",
      "/usr/local/lib/python3.7/site-packages/sklearn/linear_model/logistic.py:433: FutureWarning: Default solver will be changed to 'lbfgs' in 0.22. Specify a solver to silence this warning.\n",
      "  FutureWarning)\n",
      "/usr/local/lib/python3.7/site-packages/sklearn/linear_model/logistic.py:433: FutureWarning: Default solver will be changed to 'lbfgs' in 0.22. Specify a solver to silence this warning.\n",
      "  FutureWarning)\n",
      "/usr/local/lib/python3.7/site-packages/sklearn/linear_model/logistic.py:433: FutureWarning: Default solver will be changed to 'lbfgs' in 0.22. Specify a solver to silence this warning.\n",
      "  FutureWarning)\n",
      "/usr/local/lib/python3.7/site-packages/sklearn/linear_model/logistic.py:433: FutureWarning: Default solver will be changed to 'lbfgs' in 0.22. Specify a solver to silence this warning.\n",
      "  FutureWarning)\n",
      "/usr/local/lib/python3.7/site-packages/sklearn/linear_model/logistic.py:433: FutureWarning: Default solver will be changed to 'lbfgs' in 0.22. Specify a solver to silence this warning.\n",
      "  FutureWarning)\n",
      "/usr/local/lib/python3.7/site-packages/sklearn/linear_model/logistic.py:433: FutureWarning: Default solver will be changed to 'lbfgs' in 0.22. Specify a solver to silence this warning.\n",
      "  FutureWarning)\n",
      "/usr/local/lib/python3.7/site-packages/sklearn/linear_model/logistic.py:433: FutureWarning: Default solver will be changed to 'lbfgs' in 0.22. Specify a solver to silence this warning.\n",
      "  FutureWarning)\n",
      "/usr/local/lib/python3.7/site-packages/sklearn/linear_model/logistic.py:433: FutureWarning: Default solver will be changed to 'lbfgs' in 0.22. Specify a solver to silence this warning.\n",
      "  FutureWarning)\n",
      "/usr/local/lib/python3.7/site-packages/sklearn/linear_model/logistic.py:433: FutureWarning: Default solver will be changed to 'lbfgs' in 0.22. Specify a solver to silence this warning.\n",
      "  FutureWarning)\n",
      "/usr/local/lib/python3.7/site-packages/sklearn/linear_model/logistic.py:433: FutureWarning: Default solver will be changed to 'lbfgs' in 0.22. Specify a solver to silence this warning.\n",
      "  FutureWarning)\n"
     ]
    },
    {
     "name": "stdout",
     "output_type": "stream",
     "text": [
      "______________________________________________\n",
      "Classifier: Logistic Regression\n",
      "Accuracy: 0.9966702064472003\n",
      "ROC AUC: 0.8729395604395604\n",
      "Precision: 1.0\n",
      "Recall: 0.7458791208791209\n",
      "F1-score: 0.8544453186467349\n",
      "______________________________________________\n",
      "\n"
     ]
    }
   ],
   "source": [
    "model = LogisticRegression()\n",
    "\n",
    "k_fold = KFold(n_splits=10, random_state=RANDOM_STATE) \n",
    "score = cross_val_score(model, X1, Y1, cv=k_fold, scoring='accuracy').mean()\n",
    "Y_pred = cross_val_predict(model, X1, Y1, cv=k_fold)\n",
    "\n",
    "display_metrics(\"Logistic Regression\",Y_pred, Y1)"
   ]
  },
  {
   "cell_type": "code",
   "execution_count": 105,
   "metadata": {
    "scrolled": false
   },
   "outputs": [
    {
     "data": {
      "image/png": "[encoded data removed]",
      "text/plain": [
       "<Figure size 432x288 with 1 Axes>"
      ]
     },
     "metadata": {
      "needs_background": "light"
     },
     "output_type": "display_data"
    }
   ],
   "source": [
    "plot_PR(Y_pred,Y1)"
   ]
  },
  {
   "cell_type": "code",
   "execution_count": 106,
   "metadata": {},
   "outputs": [
    {
     "data": {
      "image/png": "[encoded data removed]",
      "text/plain": [
       "<Figure size 432x288 with 1 Axes>"
      ]
     },
     "metadata": {
      "needs_background": "light"
     },
     "output_type": "display_data"
    }
   ],
   "source": [
    "plot_ROC(Y_pred, Y1)"
   ]
  },
  {
   "cell_type": "code",
   "execution_count": 107,
   "metadata": {},
   "outputs": [
    {
     "name": "stderr",
     "output_type": "stream",
     "text": [
      "/usr/local/lib/python3.7/site-packages/sklearn/preprocessing/data.py:625: DataConversionWarning: Data with input dtype int64, float64 were all converted to float64 by StandardScaler.\n",
      "  return self.partial_fit(X, y)\n",
      "/usr/local/lib/python3.7/site-packages/ipykernel_launcher.py:4: DataConversionWarning: Data with input dtype int64, float64 were all converted to float64 by StandardScaler.\n",
      "  after removing the cwd from sys.path.\n"
     ]
    }
   ],
   "source": [
    "from sklearn.preprocessing import StandardScaler\n",
    "scaler = StandardScaler()\n",
    "scaler.fit(X1)\n",
    "X1 = scaler.transform(X1)"
   ]
  },
  {
   "cell_type": "code",
   "execution_count": 108,
   "metadata": {},
   "outputs": [
    {
     "data": {
      "text/plain": [
       "(-4.40792370929381, 103.54644836741168)"
      ]
     },
     "execution_count": 108,
     "metadata": {},
     "output_type": "execute_result"
    }
   ],
   "source": [
    "X1.min(), X1.max()"
   ]
  },
  {
   "cell_type": "code",
   "execution_count": 109,
   "metadata": {},
   "outputs": [
    {
     "name": "stderr",
     "output_type": "stream",
     "text": [
      "/usr/local/lib/python3.7/site-packages/sklearn/linear_model/logistic.py:433: FutureWarning: Default solver will be changed to 'lbfgs' in 0.22. Specify a solver to silence this warning.\n",
      "  FutureWarning)\n",
      "/usr/local/lib/python3.7/site-packages/sklearn/linear_model/logistic.py:433: FutureWarning: Default solver will be changed to 'lbfgs' in 0.22. Specify a solver to silence this warning.\n",
      "  FutureWarning)\n",
      "/usr/local/lib/python3.7/site-packages/sklearn/linear_model/logistic.py:433: FutureWarning: Default solver will be changed to 'lbfgs' in 0.22. Specify a solver to silence this warning.\n",
      "  FutureWarning)\n",
      "/usr/local/lib/python3.7/site-packages/sklearn/linear_model/logistic.py:433: FutureWarning: Default solver will be changed to 'lbfgs' in 0.22. Specify a solver to silence this warning.\n",
      "  FutureWarning)\n"
     ]
    },
    {
     "name": "stdout",
     "output_type": "stream",
     "text": [
      "______________________________________________\n",
      "Classifier: Logistic Regression\n",
      "Accuracy: 1.0\n",
      "ROC AUC: 1.0\n",
      "Precision: 1.0\n",
      "Recall: 1.0\n",
      "F1-score: 1.0\n",
      "______________________________________________\n",
      "\n"
     ]
    }
   ],
   "source": [
    "model = LogisticRegression()\n",
    "\n",
    "k_fold = KFold(n_splits=2, random_state=RANDOM_STATE) \n",
    "score = cross_val_score(model, X1, Y1, cv=k_fold, scoring='accuracy').mean()\n",
    "Y_pred = cross_val_predict(model, X1, Y1, cv=k_fold)\n",
    "\n",
    "display_metrics(\"Logistic Regression\",Y_pred, Y1)"
   ]
  },
  {
   "cell_type": "code",
   "execution_count": 110,
   "metadata": {},
   "outputs": [
    {
     "data": {
      "image/png": "[encoded data removed]",
      "text/plain": [
       "<Figure size 432x288 with 1 Axes>"
      ]
     },
     "metadata": {
      "needs_background": "light"
     },
     "output_type": "display_data"
    }
   ],
   "source": [
    "plot_PR(Y_pred,Y1)"
   ]
  },
  {
   "cell_type": "code",
   "execution_count": 111,
   "metadata": {},
   "outputs": [
    {
     "data": {
      "image/png": "[encoded data removed]",
      "text/plain": [
       "<Figure size 432x288 with 1 Axes>"
      ]
     },
     "metadata": {
      "needs_background": "light"
     },
     "output_type": "display_data"
    }
   ],
   "source": [
    "plot_ROC(Y_pred, Y1)"
   ]
  },
  {
   "cell_type": "code",
   "execution_count": 112,
   "metadata": {},
   "outputs": [
    {
     "data": {
      "image/png": "[encoded data removed]",
      "text/plain": [
       "<Figure size 432x288 with 2 Axes>"
      ]
     },
     "metadata": {
      "needs_background": "light"
     },
     "output_type": "display_data"
    },
    {
     "data": {
      "image/png": "[encoded data removed]",
      "text/plain": [
       "<Figure size 432x288 with 2 Axes>"
      ]
     },
     "metadata": {
      "needs_background": "light"
     },
     "output_type": "display_data"
    }
   ],
   "source": [
    "# Compute confusion matrix\n",
    "cnf_matrix = confusion_matrix(Y1, Y_pred)\n",
    "np.set_printoptions(precision=2)\n",
    "\n",
    "# Plot non-normalized confusion matrix\n",
    "plt.figure()\n",
    "plot_confusion_matrix(cnf_matrix, classes=class_names,\n",
    "                      title='Confusion matrix')\n",
    "\n",
    "# Plot normalized confusion matrix\n",
    "plt.figure()\n",
    "plot_confusion_matrix(cnf_matrix, classes=class_names, normalize=True,\n",
    "                      title='Normalized confusion matrix')\n",
    "\n",
    "plt.show()"
   ]
  },
  {
   "cell_type": "code",
   "execution_count": 113,
   "metadata": {},
   "outputs": [],
   "source": [
    "from sklearn.neighbors import KNeighborsClassifier\n",
    "from sklearn.svm import SVC\n",
    "from sklearn.linear_model import LogisticRegression\n",
    "from sklearn.neural_network import MLPClassifier\n",
    "from sklearn.tree import DecisionTreeClassifier\n",
    "from sklearn.naive_bayes import GaussianNB\n",
    "from sklearn.ensemble import RandomForestClassifier\n",
    "from sklearn.ensemble import GradientBoostingClassifier"
   ]
  },
  {
   "cell_type": "code",
   "execution_count": 114,
   "metadata": {},
   "outputs": [],
   "source": [
    "models = []\n",
    "models.append(('DT', DecisionTreeClassifier(max_leaf_nodes=8)))\n",
    "models.append(('MLP', MLPClassifier(hidden_layer_sizes=(15,))))\n",
    "models.append(('RF', RandomForestClassifier()))\n",
    "models.append(('SVC', SVC()))\n",
    "models.append(('SVC_RBF', SVC(kernel='rbf')))\n",
    "models.append(('KNN_3', KNeighborsClassifier(n_neighbors=3)))\n",
    "models.append(('KNN_5', KNeighborsClassifier(n_neighbors=5)))\n",
    "models.append(('KNN_7', KNeighborsClassifier(n_neighbors=7)))\n",
    "# models.append(('GNB', GaussianNB()))\n",
    "# models.append(('GB', GradientBoostingClassifier()))"
   ]
  },
  {
   "cell_type": "code",
   "execution_count": 115,
   "metadata": {},
   "outputs": [
    {
     "name": "stderr",
     "output_type": "stream",
     "text": [
      "/usr/local/lib/python3.7/site-packages/sklearn/ensemble/forest.py:246: FutureWarning: The default value of n_estimators will change from 10 in version 0.20 to 100 in 0.22.\n",
      "  \"10 in version 0.20 to 100 in 0.22.\", FutureWarning)\n",
      "/usr/local/lib/python3.7/site-packages/sklearn/ensemble/forest.py:246: FutureWarning: The default value of n_estimators will change from 10 in version 0.20 to 100 in 0.22.\n",
      "  \"10 in version 0.20 to 100 in 0.22.\", FutureWarning)\n",
      "/usr/local/lib/python3.7/site-packages/sklearn/ensemble/forest.py:246: FutureWarning: The default value of n_estimators will change from 10 in version 0.20 to 100 in 0.22.\n",
      "  \"10 in version 0.20 to 100 in 0.22.\", FutureWarning)\n",
      "/usr/local/lib/python3.7/site-packages/sklearn/ensemble/forest.py:246: FutureWarning: The default value of n_estimators will change from 10 in version 0.20 to 100 in 0.22.\n",
      "  \"10 in version 0.20 to 100 in 0.22.\", FutureWarning)\n",
      "/usr/local/lib/python3.7/site-packages/sklearn/svm/base.py:196: FutureWarning: The default value of gamma will change from 'auto' to 'scale' in version 0.22 to account better for unscaled features. Set gamma explicitly to 'auto' or 'scale' to avoid this warning.\n",
      "  \"avoid this warning.\", FutureWarning)\n",
      "/usr/local/lib/python3.7/site-packages/sklearn/svm/base.py:196: FutureWarning: The default value of gamma will change from 'auto' to 'scale' in version 0.22 to account better for unscaled features. Set gamma explicitly to 'auto' or 'scale' to avoid this warning.\n",
      "  \"avoid this warning.\", FutureWarning)\n",
      "/usr/local/lib/python3.7/site-packages/sklearn/svm/base.py:196: FutureWarning: The default value of gamma will change from 'auto' to 'scale' in version 0.22 to account better for unscaled features. Set gamma explicitly to 'auto' or 'scale' to avoid this warning.\n",
      "  \"avoid this warning.\", FutureWarning)\n",
      "/usr/local/lib/python3.7/site-packages/sklearn/svm/base.py:196: FutureWarning: The default value of gamma will change from 'auto' to 'scale' in version 0.22 to account better for unscaled features. Set gamma explicitly to 'auto' or 'scale' to avoid this warning.\n",
      "  \"avoid this warning.\", FutureWarning)\n",
      "/usr/local/lib/python3.7/site-packages/sklearn/svm/base.py:196: FutureWarning: The default value of gamma will change from 'auto' to 'scale' in version 0.22 to account better for unscaled features. Set gamma explicitly to 'auto' or 'scale' to avoid this warning.\n",
      "  \"avoid this warning.\", FutureWarning)\n",
      "/usr/local/lib/python3.7/site-packages/sklearn/svm/base.py:196: FutureWarning: The default value of gamma will change from 'auto' to 'scale' in version 0.22 to account better for unscaled features. Set gamma explicitly to 'auto' or 'scale' to avoid this warning.\n",
      "  \"avoid this warning.\", FutureWarning)\n",
      "/usr/local/lib/python3.7/site-packages/sklearn/svm/base.py:196: FutureWarning: The default value of gamma will change from 'auto' to 'scale' in version 0.22 to account better for unscaled features. Set gamma explicitly to 'auto' or 'scale' to avoid this warning.\n",
      "  \"avoid this warning.\", FutureWarning)\n",
      "/usr/local/lib/python3.7/site-packages/sklearn/svm/base.py:196: FutureWarning: The default value of gamma will change from 'auto' to 'scale' in version 0.22 to account better for unscaled features. Set gamma explicitly to 'auto' or 'scale' to avoid this warning.\n",
      "  \"avoid this warning.\", FutureWarning)\n"
     ]
    }
   ],
   "source": [
    "from sklearn.model_selection import learning_curve\n",
    "names = []\n",
    "train_sizes = []\n",
    "train_scores = []\n",
    "valid_scores = []\n",
    "for name, model in models:\n",
    "    train_size, train_score, valid_score = learning_curve(model, X1, Y1, \n",
    "                                            train_sizes=[0.5, 0.8], cv=2)\n",
    "    names.append(name)\n",
    "    train_sizes.append(train_size)\n",
    "    train_scores.append(train_score)\n",
    "    valid_scores.append(valid_score)\n",
    "learning_curve_val = pd.DataFrame({'Name': names, \n",
    "                                   'Train_Sizes' : train_sizes,\n",
    "                                   'Train_Scores': train_scores,\n",
    "                                   'Validation_Scores': valid_scores})"
   ]
  },
  {
   "cell_type": "code",
   "execution_count": 116,
   "metadata": {},
   "outputs": [
    {
     "data": {
      "text/html": [
       "<div>\n",
       "<style scoped>\n",
       "    .dataframe tbody tr th:only-of-type {\n",
       "        vertical-align: middle;\n",
       "    }\n",
       "\n",
       "    .dataframe tbody tr th {\n",
       "        vertical-align: top;\n",
       "    }\n",
       "\n",
       "    .dataframe thead th {\n",
       "        text-align: right;\n",
       "    }\n",
       "</style>\n",
       "<table border=\"1\" class=\"dataframe\">\n",
       "  <thead>\n",
       "    <tr style=\"text-align: right;\">\n",
       "      <th></th>\n",
       "      <th>Name</th>\n",
       "      <th>Train_Sizes</th>\n",
       "      <th>Train_Scores</th>\n",
       "      <th>Validation_Scores</th>\n",
       "    </tr>\n",
       "  </thead>\n",
       "  <tbody>\n",
       "    <tr>\n",
       "      <th>0</th>\n",
       "      <td>DT</td>\n",
       "      <td>[13889, 22223]</td>\n",
       "      <td>[[1.0, 1.0], [1.0, 1.0]]</td>\n",
       "      <td>[[1.0, 1.0], [0.9999640028797696, 1.0]]</td>\n",
       "    </tr>\n",
       "    <tr>\n",
       "      <th>1</th>\n",
       "      <td>MLP</td>\n",
       "      <td>[13889, 22223]</td>\n",
       "      <td>[[1.0, 1.0], [1.0, 1.0]]</td>\n",
       "      <td>[[1.0, 1.0], [1.0, 1.0]]</td>\n",
       "    </tr>\n",
       "    <tr>\n",
       "      <th>2</th>\n",
       "      <td>RF</td>\n",
       "      <td>[13889, 22223]</td>\n",
       "      <td>[[1.0, 1.0], [1.0, 1.0]]</td>\n",
       "      <td>[[0.9999640028797696, 1.0], [1.0, 1.0]]</td>\n",
       "    </tr>\n",
       "    <tr>\n",
       "      <th>3</th>\n",
       "      <td>SVC</td>\n",
       "      <td>[13889, 22223]</td>\n",
       "      <td>[[1.0, 1.0], [1.0, 1.0]]</td>\n",
       "      <td>[[0.9594672426205904, 1.0], [0.959467242620590...</td>\n",
       "    </tr>\n",
       "    <tr>\n",
       "      <th>4</th>\n",
       "      <td>SVC_RBF</td>\n",
       "      <td>[13889, 22223]</td>\n",
       "      <td>[[1.0, 1.0], [1.0, 1.0]]</td>\n",
       "      <td>[[0.9594672426205904, 1.0], [0.959467242620590...</td>\n",
       "    </tr>\n",
       "    <tr>\n",
       "      <th>5</th>\n",
       "      <td>KNN_3</td>\n",
       "      <td>[13889, 22223]</td>\n",
       "      <td>[[1.0, 1.0], [1.0, 1.0]]</td>\n",
       "      <td>[[1.0, 1.0], [1.0, 1.0]]</td>\n",
       "    </tr>\n",
       "    <tr>\n",
       "      <th>6</th>\n",
       "      <td>KNN_5</td>\n",
       "      <td>[13889, 22223]</td>\n",
       "      <td>[[1.0, 1.0], [1.0, 1.0]]</td>\n",
       "      <td>[[1.0, 1.0], [1.0, 1.0]]</td>\n",
       "    </tr>\n",
       "    <tr>\n",
       "      <th>7</th>\n",
       "      <td>KNN_7</td>\n",
       "      <td>[13889, 22223]</td>\n",
       "      <td>[[1.0, 1.0], [1.0, 1.0]]</td>\n",
       "      <td>[[1.0, 1.0], [1.0, 1.0]]</td>\n",
       "    </tr>\n",
       "  </tbody>\n",
       "</table>\n",
       "</div>"
      ],
      "text/plain": [
       "      Name     Train_Sizes              Train_Scores  \\\n",
       "0       DT  [13889, 22223]  [[1.0, 1.0], [1.0, 1.0]]   \n",
       "1      MLP  [13889, 22223]  [[1.0, 1.0], [1.0, 1.0]]   \n",
       "2       RF  [13889, 22223]  [[1.0, 1.0], [1.0, 1.0]]   \n",
       "3      SVC  [13889, 22223]  [[1.0, 1.0], [1.0, 1.0]]   \n",
       "4  SVC_RBF  [13889, 22223]  [[1.0, 1.0], [1.0, 1.0]]   \n",
       "5    KNN_3  [13889, 22223]  [[1.0, 1.0], [1.0, 1.0]]   \n",
       "6    KNN_5  [13889, 22223]  [[1.0, 1.0], [1.0, 1.0]]   \n",
       "7    KNN_7  [13889, 22223]  [[1.0, 1.0], [1.0, 1.0]]   \n",
       "\n",
       "                                   Validation_Scores  \n",
       "0            [[1.0, 1.0], [0.9999640028797696, 1.0]]  \n",
       "1                           [[1.0, 1.0], [1.0, 1.0]]  \n",
       "2            [[0.9999640028797696, 1.0], [1.0, 1.0]]  \n",
       "3  [[0.9594672426205904, 1.0], [0.959467242620590...  \n",
       "4  [[0.9594672426205904, 1.0], [0.959467242620590...  \n",
       "5                           [[1.0, 1.0], [1.0, 1.0]]  \n",
       "6                           [[1.0, 1.0], [1.0, 1.0]]  \n",
       "7                           [[1.0, 1.0], [1.0, 1.0]]  "
      ]
     },
     "execution_count": 116,
     "metadata": {},
     "output_type": "execute_result"
    }
   ],
   "source": [
    "learning_curve_val"
   ]
  },
  {
   "cell_type": "code",
   "execution_count": 117,
   "metadata": {},
   "outputs": [
    {
     "name": "stderr",
     "output_type": "stream",
     "text": [
      "/usr/local/lib/python3.7/site-packages/sklearn/ensemble/forest.py:246: FutureWarning: The default value of n_estimators will change from 10 in version 0.20 to 100 in 0.22.\n",
      "  \"10 in version 0.20 to 100 in 0.22.\", FutureWarning)\n",
      "/usr/local/lib/python3.7/site-packages/sklearn/ensemble/forest.py:246: FutureWarning: The default value of n_estimators will change from 10 in version 0.20 to 100 in 0.22.\n",
      "  \"10 in version 0.20 to 100 in 0.22.\", FutureWarning)\n",
      "/usr/local/lib/python3.7/site-packages/sklearn/svm/base.py:196: FutureWarning: The default value of gamma will change from 'auto' to 'scale' in version 0.22 to account better for unscaled features. Set gamma explicitly to 'auto' or 'scale' to avoid this warning.\n",
      "  \"avoid this warning.\", FutureWarning)\n",
      "/usr/local/lib/python3.7/site-packages/sklearn/svm/base.py:196: FutureWarning: The default value of gamma will change from 'auto' to 'scale' in version 0.22 to account better for unscaled features. Set gamma explicitly to 'auto' or 'scale' to avoid this warning.\n",
      "  \"avoid this warning.\", FutureWarning)\n",
      "/usr/local/lib/python3.7/site-packages/sklearn/svm/base.py:196: FutureWarning: The default value of gamma will change from 'auto' to 'scale' in version 0.22 to account better for unscaled features. Set gamma explicitly to 'auto' or 'scale' to avoid this warning.\n",
      "  \"avoid this warning.\", FutureWarning)\n",
      "/usr/local/lib/python3.7/site-packages/sklearn/svm/base.py:196: FutureWarning: The default value of gamma will change from 'auto' to 'scale' in version 0.22 to account better for unscaled features. Set gamma explicitly to 'auto' or 'scale' to avoid this warning.\n",
      "  \"avoid this warning.\", FutureWarning)\n"
     ]
    },
    {
     "name": "stdout",
     "output_type": "stream",
     "text": [
      "      Name     Score\n",
      "0       DT  1.000000\n",
      "1      MLP  1.000000\n",
      "2       RF  1.000000\n",
      "5    KNN_3  1.000000\n",
      "6    KNN_5  1.000000\n",
      "7    KNN_7  1.000000\n",
      "3      SVC  0.980382\n",
      "4  SVC_RBF  0.980382\n"
     ]
    }
   ],
   "source": [
    "names = []\n",
    "scores = []\n",
    "for name, model in models:\n",
    "    \n",
    "    k_fold = KFold(n_splits=2, random_state=RANDOM_STATE) \n",
    "    score = cross_val_score(model, X1, Y1, cv=k_fold, scoring='accuracy').mean()\n",
    "    \n",
    "    names.append(name)\n",
    "    scores.append(score)\n",
    "kf_cross_val = pd.DataFrame({'Name': names, 'Score': scores})\n",
    "\n",
    "print(kf_cross_val.sort_values(['Score'],ascending=0))"
   ]
  },
  {
   "cell_type": "code",
   "execution_count": 119,
   "metadata": {},
   "outputs": [
    {
     "data": {
      "image/png": "[encoded data removed]",
      "text/plain": [
       "<Figure size 432x288 with 1 Axes>"
      ]
     },
     "metadata": {},
     "output_type": "display_data"
    }
   ],
   "source": [
    "import seaborn as sns\n",
    "kf_val = kf_cross_val.sort_values(['Score'],ascending=0)\n",
    "sns.set_style(\"whitegrid\")\n",
    "ax = sns.barplot(x = 'Name', y = 'Score', data = kf_val)\n",
    "ax.set(xlabel='Classifier', ylabel='Score')\n",
    "\n",
    "for p in ax.patches:\n",
    "    height = p.get_height()\n",
    "    ax.text(p.get_x() + p.get_width()/2, height, '{:1.4f}'.format(height), ha=\"center\") \n",
    "    \n",
    "plt.show()"
   ]
  },
  {
   "cell_type": "code",
   "execution_count": 120,
   "metadata": {},
   "outputs": [],
   "source": [
    "from sklearn.datasets import load_digits\n",
    "from sklearn.model_selection import learning_curve\n",
    "from sklearn.model_selection import ShuffleSplit\n",
    "def plot_learning_curve(estimator, title, X, y, ylim=None, cv=None,\n",
    "                        n_jobs=None, train_sizes=np.linspace(.1, 1.0, 5)):\n",
    "    plt.figure()\n",
    "    plt.title(title)\n",
    "    if ylim is not None:\n",
    "        plt.ylim(*ylim)\n",
    "    plt.xlabel(\"Training examples\")\n",
    "    plt.ylabel(\"Score\")\n",
    "    train_sizes, train_scores, test_scores = learning_curve(\n",
    "        estimator, X, y, cv=cv, n_jobs=n_jobs, train_sizes=train_sizes)\n",
    "    train_scores_mean = np.mean(train_scores, axis=1)\n",
    "    train_scores_std = np.std(train_scores, axis=1)\n",
    "    test_scores_mean = np.mean(test_scores, axis=1)\n",
    "    test_scores_std = np.std(test_scores, axis=1)\n",
    "    plt.grid()\n",
    "\n",
    "    plt.fill_between(train_sizes, train_scores_mean - train_scores_std,\n",
    "                     train_scores_mean + train_scores_std, alpha=0.1,\n",
    "                     color=\"r\")\n",
    "    plt.fill_between(train_sizes, test_scores_mean - test_scores_std,\n",
    "                     test_scores_mean + test_scores_std, alpha=0.1, color=\"g\")\n",
    "    plt.plot(train_sizes, train_scores_mean, 'o-', color=\"r\",\n",
    "             label=\"Training score\")\n",
    "    plt.plot(train_sizes, test_scores_mean, 'o-', color=\"g\",\n",
    "             label=\"Cross-validation score\")\n",
    "\n",
    "    plt.legend(loc=\"best\")\n",
    "    return plt"
   ]
  },
  {
   "cell_type": "code",
   "execution_count": 122,
   "metadata": {},
   "outputs": [
    {
     "data": {
      "image/png": "[encoded data removed]",
      "text/plain": [
       "<Figure size 432x288 with 1 Axes>"
      ]
     },
     "metadata": {},
     "output_type": "display_data"
    },
    {
     "data": {
      "image/png": "[encoded data removed]",
      "text/plain": [
       "<Figure size 432x288 with 1 Axes>"
      ]
     },
     "metadata": {},
     "output_type": "display_data"
    },
    {
     "data": {
      "image/png": "[encoded data removed]",
      "text/plain": [
       "<Figure size 432x288 with 1 Axes>"
      ]
     },
     "metadata": {},
     "output_type": "display_data"
    },
    {
     "data": {
      "image/png": "[encoded data removed]",
      "text/plain": [
       "<Figure size 432x288 with 1 Axes>"
      ]
     },
     "metadata": {},
     "output_type": "display_data"
    },
    {
     "data": {
      "image/png": "[encoded data removed]",
      "text/plain": [
       "<Figure size 432x288 with 1 Axes>"
      ]
     },
     "metadata": {},
     "output_type": "display_data"
    },
    {
     "data": {
      "image/png": "[encoded data removed]",
      "text/plain": [
       "<Figure size 432x288 with 1 Axes>"
      ]
     },
     "metadata": {},
     "output_type": "display_data"
    },
    {
     "data": {
      "image/png": "[encoded data removed]",
      "text/plain": [
       "<Figure size 432x288 with 1 Axes>"
      ]
     },
     "metadata": {},
     "output_type": "display_data"
    },
    {
     "data": {
      "image/png": "[encoded data removed]",
      "text/plain": [
       "<Figure size 432x288 with 1 Axes>"
      ]
     },
     "metadata": {},
     "output_type": "display_data"
    }
   ],
   "source": [
    "for name, model in models:\n",
    "\n",
    "    title = \"Learning Curves \"+ \"(\" + name + \")\"\n",
    "# Cross validation with 100 iterations to get smoother mean test and train\n",
    "# score curves, each time with 20% data randomly selected as a validation set.\n",
    "    cv = ShuffleSplit(n_splits=10, test_size=0.2, random_state=0)\n",
    "\n",
    "    estimator = model\n",
    "    plot_learning_curve(estimator, title, X1, Y1, ylim=(0.5, 1.01), cv=cv, n_jobs=4)"
   ]
  },
  {
   "cell_type": "code",
   "execution_count": null,
   "metadata": {},
   "outputs": [],
   "source": []
  }
 ],
 "metadata": {
  "kernelspec": {
   "display_name": "Python 3",
   "language": "python",
   "name": "python3"
  },
  "language_info": {
   "codemirror_mode": {
    "name": "ipython",
    "version": 3
   },
   "file_extension": ".py",
   "mimetype": "text/x-python",
   "name": "python",
   "nbconvert_exporter": "python",
   "pygments_lexer": "ipython3",
   "version": "3.7.0"
  }
 },
 "nbformat": 4,
 "nbformat_minor": 2
}
